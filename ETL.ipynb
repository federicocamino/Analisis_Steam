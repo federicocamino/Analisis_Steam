{
 "cells": [
  {
   "cell_type": "markdown",
   "metadata": {},
   "source": [
    "# Extract"
   ]
  },
  {
   "cell_type": "code",
   "execution_count": null,
   "metadata": {},
   "outputs": [],
   "source": [
    "import gzip             #importo la librería para leer los archivos gzip, formato de compresion en el que vinieron los archivos\n",
    "import pandas as pd     #importo librería pandas que vamos a usar para el data frame\n",
    "import ast              #importo librería ast que me ayuda a leer la gramatica abstracta"
   ]
  },
  {
   "cell_type": "markdown",
   "metadata": {},
   "source": [
    "### Steamgames"
   ]
  },
  {
   "cell_type": "code",
   "execution_count": null,
   "metadata": {},
   "outputs": [],
   "source": [
    "#si bien se podría descomprimir el archivo y directamente leerlo de pandas, dado que futuras actualziaciones pueden venir como gzip, es preferible trabajarlos desde ese formato\n",
    "with gzip.open('Datos_sin_procesar/steam_games.json.gz', 'rb') as f:\n",
    "    df_steamgames=pd.read_json(f, lines=True)"
   ]
  },
  {
   "cell_type": "markdown",
   "metadata": {},
   "source": [
    "### User Items"
   ]
  },
  {
   "cell_type": "code",
   "execution_count": null,
   "metadata": {},
   "outputs": [],
   "source": [
    "#comienzo con una lista para poder insertar cada línea del archivo\n",
    "data=[]\n",
    "with gzip.open('Datos_sin_procesar/users_items.json.gz', 'rb') as f:\n",
    "    for line in f:\n",
    "        #cargar la información usando ast, porque si se usa json se dan errores por sintacis de gramatica en el uso de comillas\n",
    "        data.append(ast.literal_eval(line.decode('utf-8')))\n",
    "\n",
    "# Convierto la lista a DataFrame\n",
    "df_users_items = pd.DataFrame(data)"
   ]
  },
  {
   "cell_type": "markdown",
   "metadata": {},
   "source": [
    "### User Reviews"
   ]
  },
  {
   "cell_type": "code",
   "execution_count": null,
   "metadata": {},
   "outputs": [],
   "source": [
    "#comienzo con una lista para poder insertar cada línea del archivo\n",
    "data=[]\n",
    "with gzip.open('Datos_sin_procesar/user_reviews.json.gz', 'rb') as f:\n",
    "    for line in f:\n",
    "        #cargar la información usando ast, porque si se usa json se dan errores por sintacis de gramatica en el uso de comillas\n",
    "        data.append(ast.literal_eval(line.decode('utf-8')))\n",
    "\n",
    "# Convierto la lista a DataFrame\n",
    "df_user_reviews = pd.DataFrame(data)"
   ]
  },
  {
   "cell_type": "markdown",
   "metadata": {},
   "source": [
    "# Transorm"
   ]
  },
  {
   "cell_type": "markdown",
   "metadata": {},
   "source": [
    "### Steamgames"
   ]
  },
  {
   "cell_type": "code",
   "execution_count": null,
   "metadata": {},
   "outputs": [],
   "source": [
    "#se eliminan los valores con todos nulos\n",
    "df_steamgames.dropna(inplace= True, how='all')"
   ]
  },
  {
   "cell_type": "code",
   "execution_count": null,
   "metadata": {},
   "outputs": [],
   "source": [
    "#verifico algún id que esté nulo.\n",
    "df_steamgames[df_steamgames['id'].isnull()]"
   ]
  },
  {
   "cell_type": "code",
   "execution_count": null,
   "metadata": {},
   "outputs": [],
   "source": [
    "#se verifica sin con la url podemos obetener el id del juego\n",
    "df_steamgames[['url','id']]\n",
    "#se concluye que sí, y se pasa a asignar ese valor a los faltantes"
   ]
  },
  {
   "cell_type": "code",
   "execution_count": null,
   "metadata": {},
   "outputs": [],
   "source": [
    "#se importa la libreria re para poder trabajar sobre la extracción del ID de la url, y se genera una función para este propósito\n",
    "import re\n",
    "\n",
    "def extraer_numero_url(url):\n",
    "    if url is None:\n",
    "        return None\n",
    "    else:\n",
    "        match = re.search(r'(\\d+)', url)\n",
    "        if match:\n",
    "            return match.group(1)\n",
    "        else:\n",
    "            return None\n",
    "\n",
    "#aplicamos la funcion a una columna auxiliar\n",
    "df_steamgames['id_aux']=df_steamgames['url'].apply(extraer_numero_url)\n",
    "#aplicamos la columna auxiliar a los valores nulos\n",
    "df_steamgames['id'][df_steamgames['id'].isnull()]=df_steamgames['id_aux']\n",
    "#eliminamos los id nulos\n",
    "df_steamgames.dropna(subset=['id'], inplace=True)\n",
    "#eliminamos la columna auxiliar\n",
    "df_steamgames.drop(columns=['id_aux'], inplace=True)\n"
   ]
  },
  {
   "cell_type": "markdown",
   "metadata": {},
   "source": [
    "La columna genres tiene listas con los generos a los que puede pertenecer el juego. Para un mejor procesamiento a posteriori de los datos, se transforma esa columna en varias columnas dummies con cada uno de esos valores.\n",
    "También se tiene la columna tags, pero que tiene muchos más valores. Algunos de ellos son las categorías, y también otros tipos de etiquetas. Se arma un dataframe para rellenar los valores faltantes de etiquetas."
   ]
  },
  {
   "cell_type": "code",
   "execution_count": null,
   "metadata": {},
   "outputs": [],
   "source": [
    "#Lleno el title nulo con el app_name\n",
    "df_steamgames.loc[df_steamgames['title'].isnull(), 'title'] = df_steamgames['app_name']\n",
    "#cambio los nombres de columas que se usan más adelante\n",
    "df_steamgames = df_steamgames.rename(columns={'id': 'item_id'})\n",
    "df_steamgames = df_steamgames.rename(columns={'title': 'item_title'})"
   ]
  },
  {
   "cell_type": "code",
   "execution_count": null,
   "metadata": {},
   "outputs": [],
   "source": [
    "#Lleno la columna tags nula con la columna genres. Esto se utiliza luego en el algotirmo de ML\n",
    "df_steamgames.loc[df_steamgames['tags'].isnull(), 'tags'] = df_steamgames['genres']"
   ]
  },
  {
   "cell_type": "code",
   "execution_count": null,
   "metadata": {},
   "outputs": [],
   "source": [
    "#primero llenamos los nulos con valor [], para su posterior procesamiento\n",
    "\n",
    "# Define una función para reemplazar los valores nulos con una lista vacía\n",
    "def reemplazonulo(lst):\n",
    "    return lst if isinstance(lst, list) else []\n",
    "\n",
    "# Aplica la función a la columna con listas\n",
    "df_steamgames['genres'] = df_steamgames['genres'].apply(reemplazonulo)\n",
    "df_steamgames['tags'] = df_steamgames['tags'].apply(reemplazonulo)"
   ]
  },
  {
   "cell_type": "code",
   "execution_count": null,
   "metadata": {},
   "outputs": [],
   "source": [
    "#Separo la columna de generos\n",
    "df_genres = df_steamgames['genres'].apply(lambda x: pd.Series({val: 1 for val in x}))\n",
    "#lleno los nulos con 0\n",
    "df_genres.fillna(0, inplace=True)\n",
    "#Se renombran columnas que tienen mal los nombres\n",
    "df_genres.rename(columns={'Design &amp; Illustration':'Design & Illustration','Animation &amp; Modeling':'Animation & Modeling'}, inplace= True)\n",
    "#armo una lista con los generos\n",
    "list_Genres=df_genres.columns.to_list()\n"
   ]
  },
  {
   "cell_type": "code",
   "execution_count": null,
   "metadata": {},
   "outputs": [],
   "source": [
    "list_Genres"
   ]
  },
  {
   "cell_type": "code",
   "execution_count": null,
   "metadata": {},
   "outputs": [],
   "source": [
    "#Se genera el dataframe de de tags\n",
    "df_tags = df_steamgames['tags'].apply(lambda x: pd.Series({val: 1 for val in x}))\n",
    "df_tags.fillna(0, inplace=True)\n",
    "#idem caso anterior con nombres mal importados\n",
    "df_tags.rename(columns={'Design &amp; Illustration':'Design & Illustration','Animation &amp; Modeling':'Animation & Modeling'}, inplace= True)"
   ]
  },
  {
   "cell_type": "code",
   "execution_count": null,
   "metadata": {},
   "outputs": [],
   "source": [
    "#generamos un dataframe que usaremos luego en el algoritmo de ML\n",
    "df_tags_for_ML=pd.concat([df_steamgames[['item_title', 'item_id']],df_tags], axis=1)\n",
    "#cambiamos de formato sus columnas para que ocupen menos espacio\n",
    "columnas=df_tags_for_ML.columns.tolist()\n",
    "columnas.remove('item_title')\n",
    "for i in columnas:\n",
    "    df_tags_for_ML[i]= df_tags_for_ML[i].astype(int)\n",
    "#se exporta el dataframe, y se elimina\n",
    "df_tags_for_ML.to_csv('Datos_procesados/df_tags_for_ML.csv')\n",
    "#se elimina para que no ocupe más espacio\n",
    "del df_tags_for_ML"
   ]
  },
  {
   "cell_type": "code",
   "execution_count": null,
   "metadata": {},
   "outputs": [],
   "source": [
    "'''\n",
    "verificamos que todos los géneros están en la lista\n",
    "tags=df_tags.columns.tolist()\n",
    "genres=df_genres.columns.tolist()\n",
    "genres_not_in_tag=[]\n",
    "for i in genres:\n",
    "    if i not in tags: print(i+' no está')\n",
    "    else:\n",
    "        print(i+' está')\n",
    "'''"
   ]
  },
  {
   "cell_type": "code",
   "execution_count": null,
   "metadata": {},
   "outputs": [],
   "source": [
    "#sacamos el genero Accounting que no se encuentra en ningún tag\n",
    "#genres.remove('Accounting')\n",
    "genres=df_genres.columns.tolist()\n",
    "#completamos las categorías que son nulas en la columna de categoria pero si fueron etiquetadas usando los tags\n",
    "for i in genres:\n",
    "    for index, row in df_genres.iterrows():\n",
    "        if row[i] == 0:\n",
    "            df_genres.at[index, i] = df_tags.at[index, i]\n",
    "df_steamgames=pd.concat([df_steamgames,df_genres], axis=1)\n",
    "\n",
    "#eliminamos los dataframes que ya no usamos\n",
    "del df_genres\n",
    "del df_tags\n",
    "\n",
    "#volvemos a agregar el genero Accounting\n",
    "genres.append('Accounting')"
   ]
  },
  {
   "cell_type": "code",
   "execution_count": null,
   "metadata": {},
   "outputs": [],
   "source": [
    "#Pongo el año de lanzamiento\n",
    "df_steamgames['release_date'] = pd.to_datetime(df_steamgames['release_date'], errors='coerce')\n",
    "df_steamgames.loc[~df_steamgames['release_date'].notnull(), 'release_date'] = None\n",
    "df_steamgames['release_year'] = df_steamgames['release_date'].dt.year"
   ]
  },
  {
   "cell_type": "code",
   "execution_count": null,
   "metadata": {},
   "outputs": [],
   "source": [
    "#cambio los tipos de datos para ocupar menos espacio\n",
    "df_steamgames['release_year'] = df_steamgames['release_year'].fillna(0)\n",
    "df_steamgames['release_year'] = df_steamgames['release_year'].astype(int)\n",
    "for i in genres:\n",
    "    df_steamgames[i] = df_steamgames[i].fillna(0)\n",
    "    df_steamgames[i] = df_steamgames[i].astype(int)\n",
    "df_steamgames['item_id']=df_steamgames['item_id'].astype(int)"
   ]
  },
  {
   "cell_type": "code",
   "execution_count": null,
   "metadata": {},
   "outputs": [],
   "source": [
    "#elimino lo que no sirve\n",
    "df_steamgames.drop(['publisher','app_name','genres', 'tags' ,'url','release_date','reviews_url','specs','price','early_access',\n",
    "                                 'developer'],axis=1,inplace=True)"
   ]
  },
  {
   "cell_type": "markdown",
   "metadata": {},
   "source": [
    "### User Items"
   ]
  },
  {
   "cell_type": "markdown",
   "metadata": {},
   "source": [
    "Se posee en la columna items listas con diccionarios. Cada diccionario tiene 4 atributos. Se genera una fila para cada diccionario, y 4 columnas posteriores a partir del diccionario"
   ]
  },
  {
   "cell_type": "code",
   "execution_count": null,
   "metadata": {},
   "outputs": [],
   "source": [
    "#primero se inserta una fila por cada diccionario de la columna item\n",
    "df_users_items=df_users_items.explode('items')\n",
    "df_users_items = df_users_items.reset_index(drop=True)"
   ]
  },
  {
   "cell_type": "code",
   "execution_count": null,
   "metadata": {},
   "outputs": [],
   "source": [
    "#luego se arma un dataframe nuevo a partir de los diccionarios de item, con una columna por cada atributo\n",
    "# el metodo normal sería este, pero tarda mucho, con lo cual buscamos extraer columna por columna df_users_items_items=df_users_items['items'].apply(pd.Series)\n",
    "\n",
    "def obtener_elemento(diccionario, clave_busqueda):\n",
    "    if isinstance(diccionario, dict):\n",
    "        return diccionario.get(clave_busqueda)\n",
    "    else:\n",
    "        return diccionario\n",
    "\n",
    "df_users_items['item_id'] = df_users_items['items'].apply(lambda x: obtener_elemento(x, 'item_id'))\n",
    "df_users_items['item_name'] = df_users_items['items'].apply(lambda x: obtener_elemento(x, 'item_name'))\n",
    "df_users_items['playtime_forever'] = df_users_items['items'].apply(lambda x: obtener_elemento(x, 'playtime_forever'))\n",
    "df_users_items['playtime_2weeks'] = df_users_items['items'].apply(lambda x: obtener_elemento(x, 'playtime_2weeks'))"
   ]
  },
  {
   "cell_type": "code",
   "execution_count": null,
   "metadata": {},
   "outputs": [],
   "source": [
    "#Saco las columnas items que ya no no utiles\n",
    "df_users_items.drop(['steam_id','user_url','items', 'items_count'], axis=1,inplace= True)\n",
    "#eliminamos las filas que no tienen valor de juego\n",
    "df_users_items = df_users_items.dropna(subset=['item_id', 'item_name'], how='all')"
   ]
  },
  {
   "cell_type": "markdown",
   "metadata": {},
   "source": [
    "### User Reviews"
   ]
  },
  {
   "cell_type": "markdown",
   "metadata": {},
   "source": [
    "Cada objeto de la columna review es una lista que tiene varios valores de diccionario, de 7 atributos 'funny', 'posted',   'last_edited', 'item_id', 'helpful', 'recommend', 'review'. Se debe transformar cada diccionario en una fila, y cada uno de estos 7 atriburos en una columna, de manera tal que el dataframe refleje la realidad de datos que tenemos"
   ]
  },
  {
   "cell_type": "code",
   "execution_count": null,
   "metadata": {},
   "outputs": [],
   "source": [
    "#paso cada lista a una fila, aplicando metodo explode\n",
    "df_user_reviews=df_user_reviews.explode('reviews')\n",
    "#paso cada atributo del diccionario a una columna nueva, aplicando metodo apply\n",
    "df_user_reviews_exp=df_user_reviews['reviews'].apply(pd.Series)\n",
    "df_user_reviews.reset_index()"
   ]
  },
  {
   "cell_type": "code",
   "execution_count": null,
   "metadata": {},
   "outputs": [],
   "source": [
    "#junto el dataframe original y las nuevas columnas\n",
    "df_user_reviews=pd.concat([df_user_reviews, df_user_reviews_exp], axis=1)\n",
    "#elimino la columna original\n",
    "df_user_reviews.drop(['reviews','user_url', 'funny', 'last_edited', \n",
    "                      'helpful', 0], axis=1, inplace=True)"
   ]
  },
  {
   "cell_type": "code",
   "execution_count": null,
   "metadata": {},
   "outputs": [],
   "source": [
    "from textblob import TextBlob\n",
    "df_user_reviews['review'] = df_user_reviews['review'].astype(str)\n",
    "df_user_reviews['polarity'] = df_user_reviews['review'].apply(lambda text: TextBlob(text).sentiment.polarity)\n"
   ]
  },
  {
   "cell_type": "code",
   "execution_count": null,
   "metadata": {},
   "outputs": [],
   "source": [
    "import matplotlib.pyplot as plt\n",
    "plt.hist(df_user_reviews['polarity'], bins=100)"
   ]
  },
  {
   "cell_type": "code",
   "execution_count": null,
   "metadata": {},
   "outputs": [],
   "source": [
    "df_user_reviews['sentiment_analysis'] = df_user_reviews['polarity'].apply(lambda x: 0 if x < 0 else (1 if x == 0 else 2))\n",
    "df_user_reviews.drop(['review','polarity'], axis=1, inplace=True)"
   ]
  },
  {
   "cell_type": "code",
   "execution_count": null,
   "metadata": {},
   "outputs": [],
   "source": [
    "#sacar el año de la review\n",
    "df_user_reviews['date'] = df_user_reviews['posted'].str.extract(r'(\\w+\\s\\d+(?:,\\s\\d{4})?)')\n",
    "df_user_reviews['date'] = pd.to_datetime(df_user_reviews['date'], format='%B %d, %Y', errors='coerce')\n",
    "df_user_reviews['year'] = df_user_reviews['date'].dt.year\n",
    "# Convertir los NaN a 0 en la columna 'year'\n",
    "df_user_reviews['year'] = df_user_reviews['year'].fillna(0)\n",
    "# Convertir la columna 'year' a tipo entero\n",
    "df_user_reviews['year'] = df_user_reviews['year'].astype(int)"
   ]
  },
  {
   "cell_type": "code",
   "execution_count": null,
   "metadata": {},
   "outputs": [],
   "source": [
    "#dado que el ultimo año de las reseñas que tienen fecha es el 2015, parece que fueron realizadas en el año 2016,\n",
    "# y cuando se realizaban en ese año no se ponía la fecha. Por eso relleno el valor de los años de reseña faltante \n",
    "# con el mayor entre ese año, y el año en que se lanzó el juego\n",
    "df_steamgames.reset_index()\n",
    "\n",
    "# Definir una función personalizada para aplicar la lógica deseada\n",
    "def fill_year(row):\n",
    "    if row['year'] == 0:\n",
    "        # Obtener las filas de df_steamgames que cumplen con la condición\n",
    "        steamgame_rows = df_steamgames[df_steamgames['item_id'] == row['item_id']]\n",
    "        \n",
    "        if not steamgame_rows.empty:\n",
    "            # Si se encontraron filas, obtener el año de la primera fila y verificar si es mayor a 2016\n",
    "            release_year = steamgame_rows['release_year'].iloc[0]\n",
    "            return max(release_year, 2016)\n",
    "        else:\n",
    "            # Si no se encontraron filas, retornar 2016\n",
    "            return 2016\n",
    "    else:\n",
    "        return row['year']\n",
    "\n",
    "# Aplicar la función personalizada a la columna 'year' utilizando apply\n",
    "df_user_reviews['year'] = df_user_reviews.apply(fill_year, axis=1)\n",
    "\n",
    "# Convertir la columna 'year' a tipo entero\n",
    "df_user_reviews['year'] = df_user_reviews['year'].astype(int)"
   ]
  },
  {
   "cell_type": "code",
   "execution_count": null,
   "metadata": {},
   "outputs": [],
   "source": [
    "#Agrupo lo que me sirve\n",
    "df_user_item_played_year = df_user_reviews.groupby(['item_id', 'user_id', 'year']).size().reset_index(name='count')\n",
    "df_user_item_played_year.drop('count', axis=1, inplace=True)\n",
    "df_user_item_played_year['item_id']=df_user_item_played_year['item_id'].astype(int)"
   ]
  },
  {
   "cell_type": "markdown",
   "metadata": {},
   "source": [
    "# Transform combinations"
   ]
  },
  {
   "cell_type": "markdown",
   "metadata": {},
   "source": [
    "#### df_genres_detail"
   ]
  },
  {
   "cell_type": "code",
   "execution_count": null,
   "metadata": {},
   "outputs": [],
   "source": [
    "#Agrego las horas totales de cada juego\n",
    "#primero armo un dataframe que es la suma total de horas jugadas de cada juego\n",
    "df_hoursxgame = df_users_items.groupby(by=['item_id', 'item_name'])['playtime_forever'].sum().reset_index()\n",
    "#cambio el tipo de item_id a integer\n",
    "df_hoursxgame['item_id']=df_hoursxgame['item_id'].astype(int)\n",
    "#agrego las horas al dataframe de steamgames\n",
    "df_steamgames = df_steamgames.merge(df_hoursxgame[['item_id', 'playtime_forever']], on='item_id', how='left')"
   ]
  },
  {
   "cell_type": "code",
   "execution_count": null,
   "metadata": {},
   "outputs": [],
   "source": [
    "#genero una lista, que luego paso a dataframe, en la que busco el año con el maximo de horas jugadas\n",
    "genres_RY_list=[]\n",
    "#voy iterando por cada género\n",
    "for i in genres:\n",
    "    # genero un dataframe con cada año de lanzamiento y las horas jugadas, un agrupado del dataframe steamgames\n",
    "    df_append = df_steamgames[df_steamgames[i] == 1].groupby(by=['release_year'])['playtime_forever'].sum().reset_index()\n",
    "    # Encuentro el año con la máxima cantidad de horas jugadas\n",
    "    max_hours_year = df_append.loc[df_append['playtime_forever'].idxmax(), 'release_year']\n",
    "    # Agrego los datos a la lista de géneros y años de máximas horas jugadas\n",
    "    genres_RY_list.append({'Genre': i, 'RYMaxHours': max_hours_year})\n",
    "df_genres=pd.DataFrame(genres_RY_list)\n",
    "df_genres['Genre']=df_genres['Genre'].astype(str)"
   ]
  },
  {
   "cell_type": "code",
   "execution_count": null,
   "metadata": {},
   "outputs": [],
   "source": [
    "#cambio el tipo de valor de item id\n",
    "df_users_items['item_id']=df_users_items['item_id'].astype(int)\n",
    "#Incluyo los generos en el dataframe de los usuarios\n",
    "df_users_items = df_users_items.merge(df_steamgames, on='item_id', how='left')\n",
    "#cambio nomnbre y elimino columnas duplicadas\n",
    "df_users_items.rename(columns={'playtime_forever_x':'playtime_forever'}, inplace=True)\n",
    "df_users_items.drop('playtime_forever_y', axis=1, inplace=True)\n",
    "#convierto a enteros las columnas de generos para que ocupe menos memoria\n",
    "for i in genres:\n",
    "    df_users_items[i] = df_users_items[i].fillna(0).astype(int)"
   ]
  },
  {
   "cell_type": "code",
   "execution_count": null,
   "metadata": {},
   "outputs": [],
   "source": [
    "## JUGADOR QUE MAS HORAS JUGO\n",
    "\n",
    "#genero una lista, que luego paso a dataframe, en la que busco el jugador con el maximo de horas jugadas\n",
    "genres_MaxPlayer_list=[]\n",
    "#voy iterando por cada género\n",
    "for index, row in df_genres.iterrows():\n",
    "    genero = row['Genre']\n",
    "    # genero un dataframe con cada jugador y las horas jugadas de ese genero, un agrupado del dataframe df_users_items\n",
    "    df_append = df_users_items[df_users_items[genero] == 1].groupby(by=['user_id'])['playtime_forever'].sum().reset_index()\n",
    "    if not df_append.empty:\n",
    "        # Encontrar el jugador con la máxima cantidad de horas jugadas\n",
    "        max_hours_player = df_append.loc[df_append['playtime_forever'].idxmax(), 'user_id']\n",
    "    else:\n",
    "    # Manejar el caso en que la Serie esté vacía\n",
    "        max_hours_player= 'Player Not Found'\n",
    "    df_genres.at[index, 'PlayerMH'] = max_hours_player\n"
   ]
  },
  {
   "cell_type": "code",
   "execution_count": null,
   "metadata": {},
   "outputs": [],
   "source": [
    "## AÑO JUGADOR POR CADA JUGADOR\n",
    "\n",
    "#primero debemos incluir el año en que jugó en una columna de users_items\n",
    "df_users_items=df_users_items.merge(df_user_item_played_year, on=['item_id','user_id'],how='left')\n",
    "\n",
    "# Itero sobre las filas de df_genresplayer\n",
    "for index, row in df_genres.iterrows():\n",
    "    genero = row['Genre']\n",
    "    jugador = row['PlayerMH']\n",
    "    \n",
    "    # Filtro df_users_items para obtener las horas jugadas del jugador por género y año\n",
    "    df_append_player = df_users_items[(df_users_items[genero] == 1) & (df_users_items['user_id'] == jugador)].groupby(by=['year'])['playtime_forever'].sum().reset_index()\n",
    "    df_append_player = df_append_player.sort_values(by='playtime_forever', ascending=False)\n",
    "    \n",
    "    # Obtengo los años jugados y horas jugadas\n",
    "    years_by_player = []\n",
    "    for j in range(min(3, len(df_append_player))):\n",
    "        this_year = '{Año: ' + str(int(df_append_player['year'].iloc[j])) + ', Horas: ' + str(int(df_append_player['playtime_forever'].iloc[j])) + '}'\n",
    "        years_by_player.append(this_year)\n",
    "    years_by_player=str(years_by_player)\n",
    "\n",
    "    # Asigno la lista de años jugados y horas jugadas a la columna 'Years Played' en la fila actual\n",
    "    df_genres.at[index, 'Years Played by player'] = years_by_player\n",
    "    "
   ]
  },
  {
   "cell_type": "code",
   "execution_count": null,
   "metadata": {},
   "outputs": [],
   "source": [
    "df_genres"
   ]
  },
  {
   "cell_type": "code",
   "execution_count": null,
   "metadata": {},
   "outputs": [],
   "source": [
    "#se exporta el dataframe\n",
    "df_genres.to_csv('Datos_procesados/genres_analysis.csv')"
   ]
  },
  {
   "cell_type": "markdown",
   "metadata": {},
   "source": [
    "#### df_year_recommendations"
   ]
  },
  {
   "cell_type": "code",
   "execution_count": null,
   "metadata": {},
   "outputs": [],
   "source": [
    "df_steamgames[['item_id','release_year']]"
   ]
  },
  {
   "cell_type": "code",
   "execution_count": null,
   "metadata": {},
   "outputs": [],
   "source": [
    "'''\n",
    "Devuelve el top 3 de juegos MÁS recomendados por usuarios para el año dado. \n",
    "(reviews.recommend = True y comentarios positivos/neutrales)\n",
    "Ejemplo de retorno: [{\"Puesto 1\" : X}, {\"Puesto 2\" : Y},{\"Puesto 3\" : Z}]\n",
    "\n",
    "Devuelve el top 3 de juegos MENOS recomendados por usuarios para el año dado. \n",
    "(reviews.recommend = False y comentarios negativos)\n",
    "Ejemplo de retorno: [{\"Puesto 1\" : X}, {\"Puesto 2\" : Y},{\"Puesto 3\" : Z}]\n",
    "\n",
    "'''\n",
    "\n"
   ]
  },
  {
   "cell_type": "markdown",
   "metadata": {},
   "source": [
    "#### df_releaseyear_sentiment"
   ]
  },
  {
   "cell_type": "code",
   "execution_count": null,
   "metadata": {},
   "outputs": [],
   "source": [
    "'''\n",
    "Según el año de lanzamiento, se devuelve una lista con la cantidad de registros de reseñas de usuarios \n",
    "que se encuentren categorizados con un análisis de sentimiento.\n",
    "# Ejemplo de retorno: {Negative = 182, Neutral = 120, Positive = 278} \n",
    "'''"
   ]
  },
  {
   "cell_type": "markdown",
   "metadata": {},
   "source": [
    "# Load"
   ]
  },
  {
   "cell_type": "markdown",
   "metadata": {},
   "source": [
    "### UsersRecommend"
   ]
  },
  {
   "cell_type": "code",
   "execution_count": null,
   "metadata": {},
   "outputs": [],
   "source": []
  },
  {
   "cell_type": "markdown",
   "metadata": {},
   "source": [
    "### UsersNotRecommend"
   ]
  },
  {
   "cell_type": "code",
   "execution_count": null,
   "metadata": {},
   "outputs": [],
   "source": [
    "''' '''\n",
    "\n",
    "def UsersNotRecommend( año : int ):"
   ]
  },
  {
   "cell_type": "markdown",
   "metadata": {},
   "source": [
    "### sentiment_analysis"
   ]
  },
  {
   "cell_type": "code",
   "execution_count": null,
   "metadata": {},
   "outputs": [],
   "source": [
    "''' '''\n",
    "\n",
    "def sentiment_analysis( año : int ):"
   ]
  },
  {
   "cell_type": "markdown",
   "metadata": {},
   "source": [
    "# EDA"
   ]
  },
  {
   "cell_type": "markdown",
   "metadata": {},
   "source": [
    "# ML"
   ]
  },
  {
   "cell_type": "code",
   "execution_count": null,
   "metadata": {},
   "outputs": [],
   "source": [
    "'''Si es un sistema de recomendación item-item:\n",
    "Ingresando el id de producto, deberíamos recibir una lista con 5 juegos recomendados similares al ingresado.'''\n",
    "\n",
    "def recomendacion_juego( id de producto ):"
   ]
  },
  {
   "cell_type": "code",
   "execution_count": null,
   "metadata": {},
   "outputs": [],
   "source": [
    "'''Si es un sistema de recomendación user-item:\n",
    " Ingresando el id de un usuario, deberíamos recibir una lista con 5 juegos recomendados para dicho usuario.\n",
    "'''\n",
    "\n",
    "def recomendacion_usuario( id de usuario ):"
   ]
  }
 ],
 "metadata": {
  "kernelspec": {
   "display_name": "Python 3",
   "language": "python",
   "name": "python3"
  },
  "language_info": {
   "codemirror_mode": {
    "name": "ipython",
    "version": 3
   },
   "file_extension": ".py",
   "mimetype": "text/x-python",
   "name": "python",
   "nbconvert_exporter": "python",
   "pygments_lexer": "ipython3",
   "version": "3.11.4"
  }
 },
 "nbformat": 4,
 "nbformat_minor": 2
}
