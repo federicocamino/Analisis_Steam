{
 "cells": [
  {
   "cell_type": "markdown",
   "metadata": {},
   "source": [
    "# Extract"
   ]
  },
  {
   "cell_type": "code",
   "execution_count": 2,
   "metadata": {},
   "outputs": [],
   "source": [
    "import gzip             #importo la librería para leer los archivos gzip, formato de compresion en el que vinieron los archivos\n",
    "import pandas as pd     #importo librería pandas que vamos a usar para el data frame\n",
    "import ast              #importo librería ast que me ayuda a leer la gramatica abstracta"
   ]
  },
  {
   "cell_type": "markdown",
   "metadata": {},
   "source": [
    "### Steamgames"
   ]
  },
  {
   "cell_type": "code",
   "execution_count": 3,
   "metadata": {},
   "outputs": [],
   "source": [
    "#si bien se podría descomprimir el archivo y directamente leerlo de pandas, dado que futuras actualziaciones pueden venir como gzip, es preferible trabajarlos desde ese formato\n",
    "with gzip.open('Datos_sin_procesar/steam_games.json.gz', 'rb') as f:\n",
    "    df_steamgames=pd.read_json(f, lines=True)"
   ]
  },
  {
   "cell_type": "markdown",
   "metadata": {},
   "source": [
    "### User Items"
   ]
  },
  {
   "cell_type": "code",
   "execution_count": 4,
   "metadata": {},
   "outputs": [],
   "source": [
    "#comienzo con una lista para poder insertar cada línea del archivo\n",
    "data=[]\n",
    "with gzip.open('Datos_sin_procesar/users_items.json.gz', 'rb') as f:\n",
    "    for line in f:\n",
    "        #cargar la información usando ast, porque si se usa json se dan errores por sintacis de gramatica en el uso de comillas\n",
    "        data.append(ast.literal_eval(line.decode('utf-8')))\n",
    "\n",
    "# Convierto la lista a DataFrame\n",
    "df_users_items = pd.DataFrame(data)"
   ]
  },
  {
   "cell_type": "markdown",
   "metadata": {},
   "source": [
    "### User Reviews"
   ]
  },
  {
   "cell_type": "code",
   "execution_count": 5,
   "metadata": {},
   "outputs": [],
   "source": [
    "#comienzo con una lista para poder insertar cada línea del archivo\n",
    "data=[]\n",
    "with gzip.open('Datos_sin_procesar/user_reviews.json.gz', 'rb') as f:\n",
    "    for line in f:\n",
    "        #cargar la información usando ast, porque si se usa json se dan errores por sintacis de gramatica en el uso de comillas\n",
    "        data.append(ast.literal_eval(line.decode('utf-8')))\n",
    "\n",
    "# Convierto la lista a DataFrame\n",
    "df_user_reviews = pd.DataFrame(data)"
   ]
  },
  {
   "cell_type": "code",
   "execution_count": null,
   "metadata": {},
   "outputs": [],
   "source": [
    "df_user_reviews"
   ]
  },
  {
   "cell_type": "markdown",
   "metadata": {},
   "source": [
    "# Transorm"
   ]
  },
  {
   "cell_type": "markdown",
   "metadata": {},
   "source": [
    "### Steamgames"
   ]
  },
  {
   "cell_type": "code",
   "execution_count": 6,
   "metadata": {},
   "outputs": [],
   "source": [
    "#elimino los valores con todos nulos\n",
    "df_steamgames.dropna(inplace= True, how='all')"
   ]
  },
  {
   "cell_type": "code",
   "execution_count": 7,
   "metadata": {},
   "outputs": [
    {
     "data": {
      "text/html": [
       "<div>\n",
       "<style scoped>\n",
       "    .dataframe tbody tr th:only-of-type {\n",
       "        vertical-align: middle;\n",
       "    }\n",
       "\n",
       "    .dataframe tbody tr th {\n",
       "        vertical-align: top;\n",
       "    }\n",
       "\n",
       "    .dataframe thead th {\n",
       "        text-align: right;\n",
       "    }\n",
       "</style>\n",
       "<table border=\"1\" class=\"dataframe\">\n",
       "  <thead>\n",
       "    <tr style=\"text-align: right;\">\n",
       "      <th></th>\n",
       "      <th>publisher</th>\n",
       "      <th>genres</th>\n",
       "      <th>app_name</th>\n",
       "      <th>title</th>\n",
       "      <th>url</th>\n",
       "      <th>release_date</th>\n",
       "      <th>tags</th>\n",
       "      <th>reviews_url</th>\n",
       "      <th>specs</th>\n",
       "      <th>price</th>\n",
       "      <th>early_access</th>\n",
       "      <th>id</th>\n",
       "      <th>developer</th>\n",
       "    </tr>\n",
       "  </thead>\n",
       "  <tbody>\n",
       "    <tr>\n",
       "      <th>88384</th>\n",
       "      <td>None</td>\n",
       "      <td>None</td>\n",
       "      <td>None</td>\n",
       "      <td>None</td>\n",
       "      <td>http://store.steampowered.com/</td>\n",
       "      <td>None</td>\n",
       "      <td>None</td>\n",
       "      <td>None</td>\n",
       "      <td>None</td>\n",
       "      <td>19.99</td>\n",
       "      <td>0.0</td>\n",
       "      <td>NaN</td>\n",
       "      <td>None</td>\n",
       "    </tr>\n",
       "    <tr>\n",
       "      <th>119271</th>\n",
       "      <td>Warner Bros. Interactive Entertainment, Feral ...</td>\n",
       "      <td>[Action, Adventure]</td>\n",
       "      <td>Batman: Arkham City - Game of the Year Edition</td>\n",
       "      <td>Batman: Arkham City - Game of the Year Edition</td>\n",
       "      <td>http://store.steampowered.com/app/200260</td>\n",
       "      <td>2012-09-07</td>\n",
       "      <td>[Action, Open World, Batman, Adventure, Stealt...</td>\n",
       "      <td>None</td>\n",
       "      <td>[Single-player, Steam Achievements, Steam Trad...</td>\n",
       "      <td>19.99</td>\n",
       "      <td>0.0</td>\n",
       "      <td>NaN</td>\n",
       "      <td>Rocksteady Studios,Feral Interactive (Mac)</td>\n",
       "    </tr>\n",
       "  </tbody>\n",
       "</table>\n",
       "</div>"
      ],
      "text/plain": [
       "                                                publisher  \\\n",
       "88384                                                None   \n",
       "119271  Warner Bros. Interactive Entertainment, Feral ...   \n",
       "\n",
       "                     genres                                        app_name  \\\n",
       "88384                  None                                            None   \n",
       "119271  [Action, Adventure]  Batman: Arkham City - Game of the Year Edition   \n",
       "\n",
       "                                                 title  \\\n",
       "88384                                             None   \n",
       "119271  Batman: Arkham City - Game of the Year Edition   \n",
       "\n",
       "                                             url release_date  \\\n",
       "88384             http://store.steampowered.com/         None   \n",
       "119271  http://store.steampowered.com/app/200260   2012-09-07   \n",
       "\n",
       "                                                     tags reviews_url  \\\n",
       "88384                                                None        None   \n",
       "119271  [Action, Open World, Batman, Adventure, Stealt...        None   \n",
       "\n",
       "                                                    specs  price  \\\n",
       "88384                                                None  19.99   \n",
       "119271  [Single-player, Steam Achievements, Steam Trad...  19.99   \n",
       "\n",
       "        early_access  id                                   developer  \n",
       "88384            0.0 NaN                                        None  \n",
       "119271           0.0 NaN  Rocksteady Studios,Feral Interactive (Mac)  "
      ]
     },
     "execution_count": 7,
     "metadata": {},
     "output_type": "execute_result"
    }
   ],
   "source": [
    "#verificamos algún id que esté nulo.\n",
    "df_steamgames[df_steamgames['id'].isnull()]"
   ]
  },
  {
   "cell_type": "code",
   "execution_count": 8,
   "metadata": {},
   "outputs": [
    {
     "data": {
      "text/html": [
       "<div>\n",
       "<style scoped>\n",
       "    .dataframe tbody tr th:only-of-type {\n",
       "        vertical-align: middle;\n",
       "    }\n",
       "\n",
       "    .dataframe tbody tr th {\n",
       "        vertical-align: top;\n",
       "    }\n",
       "\n",
       "    .dataframe thead th {\n",
       "        text-align: right;\n",
       "    }\n",
       "</style>\n",
       "<table border=\"1\" class=\"dataframe\">\n",
       "  <thead>\n",
       "    <tr style=\"text-align: right;\">\n",
       "      <th></th>\n",
       "      <th>url</th>\n",
       "      <th>id</th>\n",
       "    </tr>\n",
       "  </thead>\n",
       "  <tbody>\n",
       "    <tr>\n",
       "      <th>88310</th>\n",
       "      <td>http://store.steampowered.com/app/761140/Lost_...</td>\n",
       "      <td>761140.0</td>\n",
       "    </tr>\n",
       "    <tr>\n",
       "      <th>88311</th>\n",
       "      <td>http://store.steampowered.com/app/643980/Ironb...</td>\n",
       "      <td>643980.0</td>\n",
       "    </tr>\n",
       "    <tr>\n",
       "      <th>88312</th>\n",
       "      <td>http://store.steampowered.com/app/670290/Real_...</td>\n",
       "      <td>670290.0</td>\n",
       "    </tr>\n",
       "    <tr>\n",
       "      <th>88313</th>\n",
       "      <td>http://store.steampowered.com/app/767400/2222/</td>\n",
       "      <td>767400.0</td>\n",
       "    </tr>\n",
       "    <tr>\n",
       "      <th>88314</th>\n",
       "      <td>http://store.steampowered.com/app/773570/Log_C...</td>\n",
       "      <td>773570.0</td>\n",
       "    </tr>\n",
       "    <tr>\n",
       "      <th>...</th>\n",
       "      <td>...</td>\n",
       "      <td>...</td>\n",
       "    </tr>\n",
       "    <tr>\n",
       "      <th>120440</th>\n",
       "      <td>http://store.steampowered.com/app/773640/Colon...</td>\n",
       "      <td>773640.0</td>\n",
       "    </tr>\n",
       "    <tr>\n",
       "      <th>120441</th>\n",
       "      <td>http://store.steampowered.com/app/733530/LOGis...</td>\n",
       "      <td>733530.0</td>\n",
       "    </tr>\n",
       "    <tr>\n",
       "      <th>120442</th>\n",
       "      <td>http://store.steampowered.com/app/610660/Russi...</td>\n",
       "      <td>610660.0</td>\n",
       "    </tr>\n",
       "    <tr>\n",
       "      <th>120443</th>\n",
       "      <td>http://store.steampowered.com/app/658870/EXIT_...</td>\n",
       "      <td>658870.0</td>\n",
       "    </tr>\n",
       "    <tr>\n",
       "      <th>120444</th>\n",
       "      <td>http://store.steampowered.com/app/681550/Maze_...</td>\n",
       "      <td>681550.0</td>\n",
       "    </tr>\n",
       "  </tbody>\n",
       "</table>\n",
       "<p>32135 rows × 2 columns</p>\n",
       "</div>"
      ],
      "text/plain": [
       "                                                      url        id\n",
       "88310   http://store.steampowered.com/app/761140/Lost_...  761140.0\n",
       "88311   http://store.steampowered.com/app/643980/Ironb...  643980.0\n",
       "88312   http://store.steampowered.com/app/670290/Real_...  670290.0\n",
       "88313      http://store.steampowered.com/app/767400/2222/  767400.0\n",
       "88314   http://store.steampowered.com/app/773570/Log_C...  773570.0\n",
       "...                                                   ...       ...\n",
       "120440  http://store.steampowered.com/app/773640/Colon...  773640.0\n",
       "120441  http://store.steampowered.com/app/733530/LOGis...  733530.0\n",
       "120442  http://store.steampowered.com/app/610660/Russi...  610660.0\n",
       "120443  http://store.steampowered.com/app/658870/EXIT_...  658870.0\n",
       "120444  http://store.steampowered.com/app/681550/Maze_...  681550.0\n",
       "\n",
       "[32135 rows x 2 columns]"
      ]
     },
     "execution_count": 8,
     "metadata": {},
     "output_type": "execute_result"
    }
   ],
   "source": [
    "#se verifica sin con la url podemos obetener el id del juego\n",
    "df_steamgames[['url','id']]\n",
    "#se concluye que sí, y se pasa a asignar ese valor a los faltantes"
   ]
  },
  {
   "cell_type": "code",
   "execution_count": 9,
   "metadata": {},
   "outputs": [
    {
     "name": "stderr",
     "output_type": "stream",
     "text": [
      "C:\\Users\\feder\\AppData\\Local\\Temp\\ipykernel_12140\\4277996820.py:17: FutureWarning: ChainedAssignmentError: behaviour will change in pandas 3.0!\n",
      "You are setting values through chained assignment. Currently this works in certain cases, but when using Copy-on-Write (which will become the default behaviour in pandas 3.0) this will never work to update the original DataFrame or Series, because the intermediate object on which we are setting values will behave as a copy.\n",
      "A typical example is when you are setting values in a column of a DataFrame, like:\n",
      "\n",
      "df[\"col\"][row_indexer] = value\n",
      "\n",
      "Use `df.loc[row_indexer, \"col\"] = values` instead, to perform the assignment in a single step and ensure this keeps updating the original `df`.\n",
      "\n",
      "See the caveats in the documentation: https://pandas.pydata.org/pandas-docs/stable/user_guide/indexing.html#returning-a-view-versus-a-copy\n",
      "\n",
      "  df_steamgames['id'][df_steamgames['id'].isnull()]=df_steamgames['id_aux']\n",
      "C:\\Users\\feder\\AppData\\Local\\Temp\\ipykernel_12140\\4277996820.py:17: SettingWithCopyWarning: \n",
      "A value is trying to be set on a copy of a slice from a DataFrame\n",
      "\n",
      "See the caveats in the documentation: https://pandas.pydata.org/pandas-docs/stable/user_guide/indexing.html#returning-a-view-versus-a-copy\n",
      "  df_steamgames['id'][df_steamgames['id'].isnull()]=df_steamgames['id_aux']\n",
      "C:\\Users\\feder\\AppData\\Local\\Temp\\ipykernel_12140\\4277996820.py:17: FutureWarning: Setting an item of incompatible dtype is deprecated and will raise an error in a future version of pandas. Value '[None '200260']' has dtype incompatible with float64, please explicitly cast to a compatible dtype first.\n",
      "  df_steamgames['id'][df_steamgames['id'].isnull()]=df_steamgames['id_aux']\n"
     ]
    }
   ],
   "source": [
    "#se importa la libreria re para poder trabajar sobre la extracción del ID de la url, y se genera una función para este propósito\n",
    "import re\n",
    "\n",
    "def extraer_numero_url(url):\n",
    "    if url is None:\n",
    "        return None\n",
    "    else:\n",
    "        match = re.search(r'(\\d+)', url)\n",
    "        if match:\n",
    "            return match.group(1)\n",
    "        else:\n",
    "            return None\n",
    "\n",
    "#aplicamos la funcion a una columna auxiliar\n",
    "df_steamgames['id_aux']=df_steamgames['url'].apply(extraer_numero_url)\n",
    "#aplicamos la columna auxiliar a los valores nulos\n",
    "df_steamgames['id'][df_steamgames['id'].isnull()]=df_steamgames['id_aux']\n",
    "#eliminamos los id nulos\n",
    "df_steamgames.dropna(subset=['id'], inplace=True)\n",
    "#eliminamos la columna auxiliar\n",
    "df_steamgames.drop(columns=['id_aux'], inplace=True)\n"
   ]
  },
  {
   "cell_type": "markdown",
   "metadata": {},
   "source": [
    "La columna genres tiene listas con los generos a los que puede pertenecer el juego. Para un mejor procesamiento a posteriori de los datos, se transforma esa columna en varias columnas dummies con cada uno de esos valores.\n",
    "También se tiene la columna tags, pero que tiene muchos más valores. Algunos de ellos son las categorías, y también otros tipos de etiquetas. Se arma un dataframe para rellenar los valores faltantes de etiquetas."
   ]
  },
  {
   "cell_type": "code",
   "execution_count": 15,
   "metadata": {},
   "outputs": [],
   "source": [
    "#primero llenamos los nulos con valor [], para su posterior procesamiento\n",
    "\n",
    "# Define una función para reemplazar los valores nulos con una lista vacía\n",
    "def reemplazonulo(lst):\n",
    "    return lst if isinstance(lst, list) else []\n",
    "\n",
    "# Aplica la función a la columna con listas\n",
    "df_steamgames['genres'] = df_steamgames['genres'].apply(reemplazonulo)\n",
    "df_steamgames['tags'] = df_steamgames['tags'].apply(reemplazonulo)"
   ]
  },
  {
   "cell_type": "code",
   "execution_count": 16,
   "metadata": {},
   "outputs": [
    {
     "data": {
      "text/plain": [
       "count     32134\n",
       "unique      884\n",
       "top          []\n",
       "freq       3282\n",
       "Name: genres, dtype: object"
      ]
     },
     "execution_count": 16,
     "metadata": {},
     "output_type": "execute_result"
    }
   ],
   "source": [
    "df_steamgames['genres'].describe()"
   ]
  },
  {
   "cell_type": "code",
   "execution_count": 17,
   "metadata": {},
   "outputs": [],
   "source": [
    "#Separo la columna de generos\n",
    "df_genres = df_steamgames['genres'].apply(lambda x: pd.Series({val: 1 for val in x}))\n",
    "#lleno los nulos con 0\n",
    "df_genres.fillna(0, inplace=True)\n",
    "#Se renombran columnas que tienen mal los nombres\n",
    "df_genres.rename(columns={'Design &amp; Illustration':'Design & Illustration','Animation &amp; Modeling':'Animation & Modeling'}, inplace= True)\n",
    "#armo una lista con los generos\n",
    "list_Genres=df_genres.columns.to_list()\n"
   ]
  },
  {
   "cell_type": "code",
   "execution_count": 18,
   "metadata": {},
   "outputs": [
    {
     "data": {
      "text/plain": [
       "['Action',\n",
       " 'Casual',\n",
       " 'Indie',\n",
       " 'Simulation',\n",
       " 'Strategy',\n",
       " 'Free to Play',\n",
       " 'RPG',\n",
       " 'Sports',\n",
       " 'Adventure',\n",
       " 'Racing',\n",
       " 'Early Access',\n",
       " 'Massively Multiplayer',\n",
       " 'Animation & Modeling',\n",
       " 'Video Production',\n",
       " 'Utilities',\n",
       " 'Web Publishing',\n",
       " 'Education',\n",
       " 'Software Training',\n",
       " 'Design & Illustration',\n",
       " 'Audio Production',\n",
       " 'Photo Editing',\n",
       " 'Accounting']"
      ]
     },
     "execution_count": 18,
     "metadata": {},
     "output_type": "execute_result"
    }
   ],
   "source": [
    "list_Genres"
   ]
  },
  {
   "cell_type": "code",
   "execution_count": 19,
   "metadata": {},
   "outputs": [],
   "source": [
    "#Se genera el dataframe de de tags\n",
    "df_tags = df_steamgames['tags'].apply(lambda x: pd.Series({val: 1 for val in x}))\n",
    "df_tags.fillna(0, inplace=True)\n",
    "#idem caso anterior con nombres mal importados\n",
    "df_tags.rename(columns={'Design &amp; Illustration':'Design & Illustration','Animation &amp; Modeling':'Animation & Modeling'}, inplace= True)"
   ]
  },
  {
   "cell_type": "code",
   "execution_count": 20,
   "metadata": {},
   "outputs": [
    {
     "name": "stdout",
     "output_type": "stream",
     "text": [
      "Action está\n",
      "Casual está\n",
      "Indie está\n",
      "Simulation está\n",
      "Strategy está\n",
      "Free to Play está\n",
      "RPG está\n",
      "Sports está\n",
      "Adventure está\n",
      "Racing está\n",
      "Early Access está\n",
      "Massively Multiplayer está\n",
      "Animation & Modeling está\n",
      "Video Production está\n",
      "Utilities está\n",
      "Web Publishing está\n",
      "Education está\n",
      "Software Training está\n",
      "Design & Illustration está\n",
      "Audio Production está\n",
      "Photo Editing está\n",
      "Accountingno está\n"
     ]
    }
   ],
   "source": [
    "#verificamos que todos los géneros están en la lista\n",
    "tags=df_tags.columns.tolist()\n",
    "genres=df_genres.columns.tolist()\n",
    "for i in genres:\n",
    "    if i in tags: print(i+' está')\n",
    "    else:\n",
    "        print(i+'no está')"
   ]
  },
  {
   "cell_type": "code",
   "execution_count": 21,
   "metadata": {},
   "outputs": [],
   "source": [
    "#sacamos el genero Accounting que no se encuentra en ningún tag\n",
    "genres.remove('Accounting')\n",
    "\n",
    "#completamos las categorías que son nulas en la columna de categoria pero si fueron etiquetadas usando los tags\n",
    "for i in genres:\n",
    "    for index, row in df_genres.iterrows():\n",
    "        if row[i] == 0:\n",
    "            df_genres.at[index, i] = df_tags.at[index, i]\n",
    "df_steamgames=pd.concat([df_steamgames,df_genres], axis=1)\n",
    "\n",
    "#eliminamos la columna genres, que tiene las listas de géneros\n",
    "df_steamgames.drop('genres', axis=1,inplace= True)\n",
    "\n",
    "#eliminamos los dataframes que ya no usamos\n",
    "del df_genres\n",
    "del df_tags\n",
    "\n",
    "#volvemos a agregar el genero Accounting\n",
    "genres.append('Accounting')"
   ]
  },
  {
   "cell_type": "code",
   "execution_count": 22,
   "metadata": {},
   "outputs": [],
   "source": [
    "df_steamgames['release_date'] = pd.to_datetime(df_steamgames['release_date'], errors='coerce')\n",
    "df_steamgames.loc[~df_steamgames['release_date'].notnull(), 'release_date'] = None\n",
    "df_steamgames['release_year'] = df_steamgames['release_date'].dt.year"
   ]
  },
  {
   "cell_type": "code",
   "execution_count": 23,
   "metadata": {},
   "outputs": [],
   "source": [
    "df_steamgames['release_year'] = df_steamgames['release_year'].fillna(0)\n",
    "df_steamgames['release_year'] = df_steamgames['release_year'].astype(int)\n",
    "for i in genres:\n",
    "    df_steamgames[i] = df_steamgames[i].fillna(0)\n",
    "    df_steamgames[i] = df_steamgames[i].astype(int)\n",
    "df_steamgames['Accounting'] = df_steamgames['Accounting'].astype(int)"
   ]
  },
  {
   "cell_type": "code",
   "execution_count": 25,
   "metadata": {},
   "outputs": [],
   "source": [
    "df_steamgames['id']=df_steamgames['id'].astype(int)"
   ]
  },
  {
   "cell_type": "code",
   "execution_count": 27,
   "metadata": {},
   "outputs": [],
   "source": [
    "df_steamgames.drop(['publisher','app_name','title','url','release_date','tags','reviews_url','specs','price','early_access',\n",
    "                                 'developer'],axis=1,inplace=True)"
   ]
  },
  {
   "cell_type": "code",
   "execution_count": 56,
   "metadata": {},
   "outputs": [],
   "source": [
    "df_steamgames = df_steamgames.rename(columns={'id': 'item_id'})"
   ]
  },
  {
   "cell_type": "code",
   "execution_count": 80,
   "metadata": {},
   "outputs": [
    {
     "data": {
      "text/plain": [
       "0"
      ]
     },
     "execution_count": 80,
     "metadata": {},
     "output_type": "execute_result"
    }
   ],
   "source": [
    "df_steamgames['Action'][1241]"
   ]
  },
  {
   "cell_type": "code",
   "execution_count": null,
   "metadata": {},
   "outputs": [],
   "source": []
  },
  {
   "cell_type": "code",
   "execution_count": 73,
   "metadata": {},
   "outputs": [
    {
     "data": {
      "text/html": [
       "<div>\n",
       "<style scoped>\n",
       "    .dataframe tbody tr th:only-of-type {\n",
       "        vertical-align: middle;\n",
       "    }\n",
       "\n",
       "    .dataframe tbody tr th {\n",
       "        vertical-align: top;\n",
       "    }\n",
       "\n",
       "    .dataframe thead th {\n",
       "        text-align: right;\n",
       "    }\n",
       "</style>\n",
       "<table border=\"1\" class=\"dataframe\">\n",
       "  <thead>\n",
       "    <tr style=\"text-align: right;\">\n",
       "      <th></th>\n",
       "      <th>item_id</th>\n",
       "      <th>Action</th>\n",
       "      <th>Casual</th>\n",
       "      <th>Indie</th>\n",
       "      <th>Simulation</th>\n",
       "      <th>Strategy</th>\n",
       "      <th>Free to Play</th>\n",
       "      <th>RPG</th>\n",
       "      <th>Sports</th>\n",
       "      <th>Adventure</th>\n",
       "      <th>...</th>\n",
       "      <th>Utilities</th>\n",
       "      <th>Web Publishing</th>\n",
       "      <th>Education</th>\n",
       "      <th>Software Training</th>\n",
       "      <th>Design &amp; Illustration</th>\n",
       "      <th>Audio Production</th>\n",
       "      <th>Photo Editing</th>\n",
       "      <th>Accounting</th>\n",
       "      <th>release_year</th>\n",
       "      <th>playtime_forever</th>\n",
       "    </tr>\n",
       "  </thead>\n",
       "  <tbody>\n",
       "    <tr>\n",
       "      <th>count</th>\n",
       "      <td>3.213400e+04</td>\n",
       "      <td>32134.000000</td>\n",
       "      <td>32134.000000</td>\n",
       "      <td>32134.000000</td>\n",
       "      <td>32134.000000</td>\n",
       "      <td>32134.000000</td>\n",
       "      <td>32134.000000</td>\n",
       "      <td>32134.000000</td>\n",
       "      <td>32134.000000</td>\n",
       "      <td>32134.000000</td>\n",
       "      <td>...</td>\n",
       "      <td>32134.000000</td>\n",
       "      <td>32134.000000</td>\n",
       "      <td>32134.000000</td>\n",
       "      <td>32134.000000</td>\n",
       "      <td>32134.000000</td>\n",
       "      <td>32134.000000</td>\n",
       "      <td>32134.000000</td>\n",
       "      <td>32134.000000</td>\n",
       "      <td>32134.000000</td>\n",
       "      <td>9.193000e+03</td>\n",
       "    </tr>\n",
       "    <tr>\n",
       "      <th>mean</th>\n",
       "      <td>4.517496e+05</td>\n",
       "      <td>0.405116</td>\n",
       "      <td>0.303946</td>\n",
       "      <td>0.549014</td>\n",
       "      <td>0.241146</td>\n",
       "      <td>0.235763</td>\n",
       "      <td>0.075092</td>\n",
       "      <td>0.184509</td>\n",
       "      <td>0.049791</td>\n",
       "      <td>0.306280</td>\n",
       "      <td>...</td>\n",
       "      <td>0.019076</td>\n",
       "      <td>0.008745</td>\n",
       "      <td>0.011701</td>\n",
       "      <td>0.004014</td>\n",
       "      <td>0.019574</td>\n",
       "      <td>0.003734</td>\n",
       "      <td>0.002490</td>\n",
       "      <td>0.000218</td>\n",
       "      <td>1867.354578</td>\n",
       "      <td>4.921556e+05</td>\n",
       "    </tr>\n",
       "    <tr>\n",
       "      <th>std</th>\n",
       "      <td>1.827166e+05</td>\n",
       "      <td>0.490922</td>\n",
       "      <td>0.459967</td>\n",
       "      <td>0.497600</td>\n",
       "      <td>0.427786</td>\n",
       "      <td>0.424481</td>\n",
       "      <td>0.263544</td>\n",
       "      <td>0.387904</td>\n",
       "      <td>0.217517</td>\n",
       "      <td>0.460955</td>\n",
       "      <td>...</td>\n",
       "      <td>0.136796</td>\n",
       "      <td>0.093104</td>\n",
       "      <td>0.107538</td>\n",
       "      <td>0.063233</td>\n",
       "      <td>0.138534</td>\n",
       "      <td>0.060996</td>\n",
       "      <td>0.049834</td>\n",
       "      <td>0.014758</td>\n",
       "      <td>524.668077</td>\n",
       "      <td>1.015944e+07</td>\n",
       "    </tr>\n",
       "    <tr>\n",
       "      <th>min</th>\n",
       "      <td>1.000000e+01</td>\n",
       "      <td>0.000000</td>\n",
       "      <td>0.000000</td>\n",
       "      <td>0.000000</td>\n",
       "      <td>0.000000</td>\n",
       "      <td>0.000000</td>\n",
       "      <td>0.000000</td>\n",
       "      <td>0.000000</td>\n",
       "      <td>0.000000</td>\n",
       "      <td>0.000000</td>\n",
       "      <td>...</td>\n",
       "      <td>0.000000</td>\n",
       "      <td>0.000000</td>\n",
       "      <td>0.000000</td>\n",
       "      <td>0.000000</td>\n",
       "      <td>0.000000</td>\n",
       "      <td>0.000000</td>\n",
       "      <td>0.000000</td>\n",
       "      <td>0.000000</td>\n",
       "      <td>0.000000</td>\n",
       "      <td>0.000000e+00</td>\n",
       "    </tr>\n",
       "    <tr>\n",
       "      <th>25%</th>\n",
       "      <td>3.292725e+05</td>\n",
       "      <td>0.000000</td>\n",
       "      <td>0.000000</td>\n",
       "      <td>0.000000</td>\n",
       "      <td>0.000000</td>\n",
       "      <td>0.000000</td>\n",
       "      <td>0.000000</td>\n",
       "      <td>0.000000</td>\n",
       "      <td>0.000000</td>\n",
       "      <td>0.000000</td>\n",
       "      <td>...</td>\n",
       "      <td>0.000000</td>\n",
       "      <td>0.000000</td>\n",
       "      <td>0.000000</td>\n",
       "      <td>0.000000</td>\n",
       "      <td>0.000000</td>\n",
       "      <td>0.000000</td>\n",
       "      <td>0.000000</td>\n",
       "      <td>0.000000</td>\n",
       "      <td>2014.000000</td>\n",
       "      <td>3.680000e+02</td>\n",
       "    </tr>\n",
       "    <tr>\n",
       "      <th>50%</th>\n",
       "      <td>4.520300e+05</td>\n",
       "      <td>0.000000</td>\n",
       "      <td>0.000000</td>\n",
       "      <td>1.000000</td>\n",
       "      <td>0.000000</td>\n",
       "      <td>0.000000</td>\n",
       "      <td>0.000000</td>\n",
       "      <td>0.000000</td>\n",
       "      <td>0.000000</td>\n",
       "      <td>0.000000</td>\n",
       "      <td>...</td>\n",
       "      <td>0.000000</td>\n",
       "      <td>0.000000</td>\n",
       "      <td>0.000000</td>\n",
       "      <td>0.000000</td>\n",
       "      <td>0.000000</td>\n",
       "      <td>0.000000</td>\n",
       "      <td>0.000000</td>\n",
       "      <td>0.000000</td>\n",
       "      <td>2016.000000</td>\n",
       "      <td>4.122000e+03</td>\n",
       "    </tr>\n",
       "    <tr>\n",
       "      <th>75%</th>\n",
       "      <td>5.933975e+05</td>\n",
       "      <td>1.000000</td>\n",
       "      <td>1.000000</td>\n",
       "      <td>1.000000</td>\n",
       "      <td>0.000000</td>\n",
       "      <td>0.000000</td>\n",
       "      <td>0.000000</td>\n",
       "      <td>0.000000</td>\n",
       "      <td>0.000000</td>\n",
       "      <td>1.000000</td>\n",
       "      <td>...</td>\n",
       "      <td>0.000000</td>\n",
       "      <td>0.000000</td>\n",
       "      <td>0.000000</td>\n",
       "      <td>0.000000</td>\n",
       "      <td>0.000000</td>\n",
       "      <td>0.000000</td>\n",
       "      <td>0.000000</td>\n",
       "      <td>0.000000</td>\n",
       "      <td>2017.000000</td>\n",
       "      <td>2.252300e+04</td>\n",
       "    </tr>\n",
       "    <tr>\n",
       "      <th>max</th>\n",
       "      <td>2.028850e+06</td>\n",
       "      <td>1.000000</td>\n",
       "      <td>1.000000</td>\n",
       "      <td>1.000000</td>\n",
       "      <td>1.000000</td>\n",
       "      <td>1.000000</td>\n",
       "      <td>1.000000</td>\n",
       "      <td>1.000000</td>\n",
       "      <td>1.000000</td>\n",
       "      <td>1.000000</td>\n",
       "      <td>...</td>\n",
       "      <td>1.000000</td>\n",
       "      <td>1.000000</td>\n",
       "      <td>1.000000</td>\n",
       "      <td>1.000000</td>\n",
       "      <td>1.000000</td>\n",
       "      <td>1.000000</td>\n",
       "      <td>1.000000</td>\n",
       "      <td>1.000000</td>\n",
       "      <td>2021.000000</td>\n",
       "      <td>7.851843e+08</td>\n",
       "    </tr>\n",
       "  </tbody>\n",
       "</table>\n",
       "<p>8 rows × 25 columns</p>\n",
       "</div>"
      ],
      "text/plain": [
       "            item_id        Action        Casual         Indie    Simulation  \\\n",
       "count  3.213400e+04  32134.000000  32134.000000  32134.000000  32134.000000   \n",
       "mean   4.517496e+05      0.405116      0.303946      0.549014      0.241146   \n",
       "std    1.827166e+05      0.490922      0.459967      0.497600      0.427786   \n",
       "min    1.000000e+01      0.000000      0.000000      0.000000      0.000000   \n",
       "25%    3.292725e+05      0.000000      0.000000      0.000000      0.000000   \n",
       "50%    4.520300e+05      0.000000      0.000000      1.000000      0.000000   \n",
       "75%    5.933975e+05      1.000000      1.000000      1.000000      0.000000   \n",
       "max    2.028850e+06      1.000000      1.000000      1.000000      1.000000   \n",
       "\n",
       "           Strategy  Free to Play           RPG        Sports     Adventure  \\\n",
       "count  32134.000000  32134.000000  32134.000000  32134.000000  32134.000000   \n",
       "mean       0.235763      0.075092      0.184509      0.049791      0.306280   \n",
       "std        0.424481      0.263544      0.387904      0.217517      0.460955   \n",
       "min        0.000000      0.000000      0.000000      0.000000      0.000000   \n",
       "25%        0.000000      0.000000      0.000000      0.000000      0.000000   \n",
       "50%        0.000000      0.000000      0.000000      0.000000      0.000000   \n",
       "75%        0.000000      0.000000      0.000000      0.000000      1.000000   \n",
       "max        1.000000      1.000000      1.000000      1.000000      1.000000   \n",
       "\n",
       "       ...     Utilities  Web Publishing     Education  Software Training  \\\n",
       "count  ...  32134.000000    32134.000000  32134.000000       32134.000000   \n",
       "mean   ...      0.019076        0.008745      0.011701           0.004014   \n",
       "std    ...      0.136796        0.093104      0.107538           0.063233   \n",
       "min    ...      0.000000        0.000000      0.000000           0.000000   \n",
       "25%    ...      0.000000        0.000000      0.000000           0.000000   \n",
       "50%    ...      0.000000        0.000000      0.000000           0.000000   \n",
       "75%    ...      0.000000        0.000000      0.000000           0.000000   \n",
       "max    ...      1.000000        1.000000      1.000000           1.000000   \n",
       "\n",
       "       Design & Illustration  Audio Production  Photo Editing    Accounting  \\\n",
       "count           32134.000000      32134.000000   32134.000000  32134.000000   \n",
       "mean                0.019574          0.003734       0.002490      0.000218   \n",
       "std                 0.138534          0.060996       0.049834      0.014758   \n",
       "min                 0.000000          0.000000       0.000000      0.000000   \n",
       "25%                 0.000000          0.000000       0.000000      0.000000   \n",
       "50%                 0.000000          0.000000       0.000000      0.000000   \n",
       "75%                 0.000000          0.000000       0.000000      0.000000   \n",
       "max                 1.000000          1.000000       1.000000      1.000000   \n",
       "\n",
       "       release_year  playtime_forever  \n",
       "count  32134.000000      9.193000e+03  \n",
       "mean    1867.354578      4.921556e+05  \n",
       "std      524.668077      1.015944e+07  \n",
       "min        0.000000      0.000000e+00  \n",
       "25%     2014.000000      3.680000e+02  \n",
       "50%     2016.000000      4.122000e+03  \n",
       "75%     2017.000000      2.252300e+04  \n",
       "max     2021.000000      7.851843e+08  \n",
       "\n",
       "[8 rows x 25 columns]"
      ]
     },
     "execution_count": 73,
     "metadata": {},
     "output_type": "execute_result"
    }
   ],
   "source": [
    "df_steamgames.describe()"
   ]
  },
  {
   "cell_type": "markdown",
   "metadata": {},
   "source": [
    "### User Items"
   ]
  },
  {
   "cell_type": "markdown",
   "metadata": {},
   "source": [
    "Se posee en la columna items listas con diccionarios. Cada diccionario tiene 4 atributos. Se genera una fila para cada diccionario, y 4 columnas posteriores a partir del diccionario"
   ]
  },
  {
   "cell_type": "code",
   "execution_count": 28,
   "metadata": {},
   "outputs": [],
   "source": [
    "#primero se inserta una fila por cada diccionario de la columna item\n",
    "df_users_items=df_users_items.explode('items')\n",
    "df_users_items = df_users_items.reset_index(drop=True)"
   ]
  },
  {
   "cell_type": "code",
   "execution_count": 33,
   "metadata": {},
   "outputs": [],
   "source": [
    "#luego se arma un dataframe nuevo a partir de los diccionarios de item, con una columna por cada atributo\n",
    "# el metodo normal sería este, pero tarda mucho, con lo cual buscamos extraer columna por columna df_users_items_items=df_users_items['items'].apply(pd.Series)"
   ]
  },
  {
   "cell_type": "code",
   "execution_count": 32,
   "metadata": {},
   "outputs": [],
   "source": [
    "def obtener_elemento(diccionario, clave_busqueda):\n",
    "    if isinstance(diccionario, dict):\n",
    "        return diccionario.get(clave_busqueda)\n",
    "    else:\n",
    "        return diccionario\n",
    "\n",
    "df_users_items['item_id'] = df_users_items['items'].apply(lambda x: obtener_elemento(x, 'item_id'))\n",
    "df_users_items['item_name'] = df_users_items['items'].apply(lambda x: obtener_elemento(x, 'item_name'))\n",
    "df_users_items['playtime_forever'] = df_users_items['items'].apply(lambda x: obtener_elemento(x, 'playtime_forever'))\n",
    "df_users_items['playtime_2weeks'] = df_users_items['items'].apply(lambda x: obtener_elemento(x, 'playtime_2weeks'))"
   ]
  },
  {
   "cell_type": "code",
   "execution_count": 35,
   "metadata": {},
   "outputs": [],
   "source": [
    "#Saco la columna items que ya no es util\n",
    "df_users_items.drop('items', axis=1,inplace= True)\n",
    "#eliminamos las filas que no tienen valor de juego\n",
    "df_users_items = df_users_items.dropna(subset=['item_id', 'item_name'], how='all')"
   ]
  },
  {
   "cell_type": "markdown",
   "metadata": {},
   "source": [
    "### User Reviews"
   ]
  },
  {
   "cell_type": "markdown",
   "metadata": {},
   "source": [
    "Cada objeto de la columna review es una lista que tiene varios valores de diccionario, de 7 atributos 'funny', 'posted',   'last_edited', 'item_id', 'helpful', 'recommend', 'review'. Se debe transformar cada diccionario en una fila, y cada uno de estos 7 atriburos en una columna, de manera tal que el dataframe refleje la realidad de datos que tenemos"
   ]
  },
  {
   "cell_type": "code",
   "execution_count": 36,
   "metadata": {},
   "outputs": [],
   "source": [
    "#paso cada lista a una fila, aplicando metodo explode\n",
    "df_user_reviews=df_user_reviews.explode('reviews')\n",
    "#paso cada atributo del diccionario a una columna nueva, aplicando metodo apply\n",
    "df_user_reviews_exp=df_user_reviews['reviews'].apply(pd.Series)"
   ]
  },
  {
   "cell_type": "code",
   "execution_count": 38,
   "metadata": {},
   "outputs": [],
   "source": [
    "#junto el dataframe original y las nuevas columnas\n",
    "df_user_reviews=pd.concat([df_user_reviews, df_user_reviews_exp], axis=1)\n",
    "#elimino la columna original\n",
    "df_user_reviews.drop(['reviews','user_url', 'funny', 'last_edited', \n",
    "                      'helpful', 0], axis=1, inplace=True)"
   ]
  },
  {
   "cell_type": "code",
   "execution_count": 41,
   "metadata": {},
   "outputs": [],
   "source": [
    "from textblob import TextBlob\n",
    "df_user_reviews['review'] = df_user_reviews['review'].astype(str)\n",
    "df_user_reviews['polarity'] = df_user_reviews['review'].apply(lambda text: TextBlob(text).sentiment.polarity)\n"
   ]
  },
  {
   "cell_type": "code",
   "execution_count": 43,
   "metadata": {},
   "outputs": [],
   "source": [
    "import matplotlib.pyplot as plt"
   ]
  },
  {
   "cell_type": "code",
   "execution_count": 44,
   "metadata": {},
   "outputs": [
    {
     "data": {
      "text/plain": [
       "(array([1.9600e+02, 1.3000e+01, 0.0000e+00, 0.0000e+00, 5.0000e+00,\n",
       "        9.0000e+00, 9.0000e+00, 3.0000e+00, 1.0000e+00, 1.0000e+00,\n",
       "        9.4000e+01, 4.0000e+00, 7.0000e+01, 4.0000e+00, 2.6000e+01,\n",
       "        1.6700e+02, 1.3000e+01, 2.0000e+01, 5.1000e+01, 4.7000e+01,\n",
       "        8.3000e+01, 2.4000e+01, 7.8000e+01, 2.6000e+01, 3.7000e+01,\n",
       "        3.4000e+02, 3.0000e+01, 9.2000e+01, 6.4000e+01, 6.5000e+01,\n",
       "        1.7440e+03, 1.1900e+02, 1.7200e+02, 1.4100e+02, 2.9300e+02,\n",
       "        1.4900e+02, 1.9900e+02, 3.0900e+02, 2.4000e+02, 8.0400e+02,\n",
       "        2.5500e+02, 3.8300e+02, 5.5200e+02, 6.2700e+02, 8.5200e+02,\n",
       "        5.6100e+02, 8.2200e+02, 1.0020e+03, 1.0370e+03, 9.1300e+02,\n",
       "        1.4095e+04, 1.2080e+03, 1.7440e+03, 1.4290e+03, 2.0370e+03,\n",
       "        1.2460e+03, 1.4540e+03, 1.9410e+03, 1.4050e+03, 9.8100e+02,\n",
       "        2.2860e+03, 1.0500e+03, 1.3440e+03, 9.2800e+02, 2.4650e+03,\n",
       "        5.7000e+02, 6.7200e+02, 7.0000e+02, 6.3500e+02, 8.4000e+02,\n",
       "        2.6600e+02, 3.6100e+02, 2.6700e+02, 3.6100e+02, 1.3900e+02,\n",
       "        1.5110e+03, 2.2500e+02, 1.9300e+02, 1.3200e+02, 3.4300e+02,\n",
       "        2.4800e+02, 1.3700e+02, 1.3300e+02, 7.5000e+01, 3.2000e+01,\n",
       "        8.6800e+02, 3.8000e+01, 1.7700e+02, 1.9000e+01, 4.0000e+01,\n",
       "        3.6700e+02, 1.2000e+01, 4.6000e+01, 3.9000e+01, 7.2000e+01,\n",
       "        7.5000e+01, 9.0000e+00, 3.0000e+00, 9.0000e+00, 1.3600e+03]),\n",
       " array([-1.  , -0.98, -0.96, -0.94, -0.92, -0.9 , -0.88, -0.86, -0.84,\n",
       "        -0.82, -0.8 , -0.78, -0.76, -0.74, -0.72, -0.7 , -0.68, -0.66,\n",
       "        -0.64, -0.62, -0.6 , -0.58, -0.56, -0.54, -0.52, -0.5 , -0.48,\n",
       "        -0.46, -0.44, -0.42, -0.4 , -0.38, -0.36, -0.34, -0.32, -0.3 ,\n",
       "        -0.28, -0.26, -0.24, -0.22, -0.2 , -0.18, -0.16, -0.14, -0.12,\n",
       "        -0.1 , -0.08, -0.06, -0.04, -0.02,  0.  ,  0.02,  0.04,  0.06,\n",
       "         0.08,  0.1 ,  0.12,  0.14,  0.16,  0.18,  0.2 ,  0.22,  0.24,\n",
       "         0.26,  0.28,  0.3 ,  0.32,  0.34,  0.36,  0.38,  0.4 ,  0.42,\n",
       "         0.44,  0.46,  0.48,  0.5 ,  0.52,  0.54,  0.56,  0.58,  0.6 ,\n",
       "         0.62,  0.64,  0.66,  0.68,  0.7 ,  0.72,  0.74,  0.76,  0.78,\n",
       "         0.8 ,  0.82,  0.84,  0.86,  0.88,  0.9 ,  0.92,  0.94,  0.96,\n",
       "         0.98,  1.  ]),\n",
       " <BarContainer object of 100 artists>)"
      ]
     },
     "execution_count": 44,
     "metadata": {},
     "output_type": "execute_result"
    },
    {
     "data": {
      "image/png": "[encoded data removed]",
      "text/plain": [
       "<Figure size 640x480 with 1 Axes>"
      ]
     },
     "metadata": {},
     "output_type": "display_data"
    }
   ],
   "source": [
    "plt.hist(df_user_reviews['polarity'], bins=100)"
   ]
  },
  {
   "cell_type": "code",
   "execution_count": 45,
   "metadata": {},
   "outputs": [],
   "source": [
    "df_user_reviews['sentiment_analysis'] = df_user_reviews['polarity'].apply(lambda x: 0 if x < 0 else (1 if x == 0 else 2))"
   ]
  },
  {
   "cell_type": "code",
   "execution_count": 46,
   "metadata": {},
   "outputs": [
    {
     "data": {
      "text/plain": [
       "Index(['user_id', 'posted', 'item_id', 'recommend', 'review', 'polarity',\n",
       "       'sentiment_analysis'],\n",
       "      dtype='object')"
      ]
     },
     "execution_count": 46,
     "metadata": {},
     "output_type": "execute_result"
    }
   ],
   "source": [
    "df_user_reviews.columns"
   ]
  },
  {
   "cell_type": "code",
   "execution_count": 47,
   "metadata": {},
   "outputs": [],
   "source": [
    "df_user_reviews.drop(['review','polarity'], axis=1, inplace=True)"
   ]
  },
  {
   "cell_type": "code",
   "execution_count": 48,
   "metadata": {},
   "outputs": [],
   "source": [
    "#no es necesario, es para poner la fecha pero no se usa\n",
    "df_user_reviews['date'] = df_user_reviews['posted'].str.extract(r'(\\w+\\s\\d+(?:,\\s\\d{4})?)')\n",
    "df_user_reviews['date'] = pd.to_datetime(df_user_reviews['date'], format='%B %d, %Y', errors='coerce')"
   ]
  },
  {
   "cell_type": "code",
   "execution_count": 49,
   "metadata": {},
   "outputs": [],
   "source": [
    "df_user_reviews['year'] = df_user_reviews['date'].dt.year"
   ]
  },
  {
   "cell_type": "code",
   "execution_count": 50,
   "metadata": {},
   "outputs": [],
   "source": [
    "# Convertir los NaN a 0 en la columna 'year'\n",
    "df_user_reviews['year'] = df_user_reviews['year'].fillna(0)\n",
    "\n",
    "# Convertir la columna 'year' a tipo entero\n",
    "df_user_reviews['year'] = df_user_reviews['year'].astype(int)"
   ]
  },
  {
   "cell_type": "markdown",
   "metadata": {},
   "source": [
    "**tengo que ver que hago con los que no tienen año**"
   ]
  },
  {
   "cell_type": "code",
   "execution_count": 51,
   "metadata": {},
   "outputs": [
    {
     "data": {
      "text/html": [
       "<div>\n",
       "<style scoped>\n",
       "    .dataframe tbody tr th:only-of-type {\n",
       "        vertical-align: middle;\n",
       "    }\n",
       "\n",
       "    .dataframe tbody tr th {\n",
       "        vertical-align: top;\n",
       "    }\n",
       "\n",
       "    .dataframe thead th {\n",
       "        text-align: right;\n",
       "    }\n",
       "</style>\n",
       "<table border=\"1\" class=\"dataframe\">\n",
       "  <thead>\n",
       "    <tr style=\"text-align: right;\">\n",
       "      <th></th>\n",
       "      <th>index</th>\n",
       "      <th>user_id</th>\n",
       "      <th>posted</th>\n",
       "      <th>item_id</th>\n",
       "      <th>recommend</th>\n",
       "      <th>sentiment_analysis</th>\n",
       "      <th>date</th>\n",
       "      <th>year</th>\n",
       "    </tr>\n",
       "  </thead>\n",
       "  <tbody>\n",
       "    <tr>\n",
       "      <th>0</th>\n",
       "      <td>0</td>\n",
       "      <td>76561197970982479</td>\n",
       "      <td>Posted November 5, 2011.</td>\n",
       "      <td>1250</td>\n",
       "      <td>True</td>\n",
       "      <td>2</td>\n",
       "      <td>2011-11-05</td>\n",
       "      <td>2011</td>\n",
       "    </tr>\n",
       "    <tr>\n",
       "      <th>1</th>\n",
       "      <td>0</td>\n",
       "      <td>76561197970982479</td>\n",
       "      <td>Posted July 15, 2011.</td>\n",
       "      <td>22200</td>\n",
       "      <td>True</td>\n",
       "      <td>2</td>\n",
       "      <td>2011-07-15</td>\n",
       "      <td>2011</td>\n",
       "    </tr>\n",
       "    <tr>\n",
       "      <th>2</th>\n",
       "      <td>0</td>\n",
       "      <td>76561197970982479</td>\n",
       "      <td>Posted April 21, 2011.</td>\n",
       "      <td>43110</td>\n",
       "      <td>True</td>\n",
       "      <td>2</td>\n",
       "      <td>2011-04-21</td>\n",
       "      <td>2011</td>\n",
       "    </tr>\n",
       "    <tr>\n",
       "      <th>3</th>\n",
       "      <td>1</td>\n",
       "      <td>js41637</td>\n",
       "      <td>Posted June 24, 2014.</td>\n",
       "      <td>251610</td>\n",
       "      <td>True</td>\n",
       "      <td>2</td>\n",
       "      <td>2014-06-24</td>\n",
       "      <td>2014</td>\n",
       "    </tr>\n",
       "    <tr>\n",
       "      <th>4</th>\n",
       "      <td>1</td>\n",
       "      <td>js41637</td>\n",
       "      <td>Posted September 8, 2013.</td>\n",
       "      <td>227300</td>\n",
       "      <td>True</td>\n",
       "      <td>0</td>\n",
       "      <td>2013-09-08</td>\n",
       "      <td>2013</td>\n",
       "    </tr>\n",
       "    <tr>\n",
       "      <th>...</th>\n",
       "      <td>...</td>\n",
       "      <td>...</td>\n",
       "      <td>...</td>\n",
       "      <td>...</td>\n",
       "      <td>...</td>\n",
       "      <td>...</td>\n",
       "      <td>...</td>\n",
       "      <td>...</td>\n",
       "    </tr>\n",
       "    <tr>\n",
       "      <th>59328</th>\n",
       "      <td>25797</td>\n",
       "      <td>76561198312638244</td>\n",
       "      <td>Posted July 10.</td>\n",
       "      <td>70</td>\n",
       "      <td>True</td>\n",
       "      <td>2</td>\n",
       "      <td>NaT</td>\n",
       "      <td>0</td>\n",
       "    </tr>\n",
       "    <tr>\n",
       "      <th>59329</th>\n",
       "      <td>25797</td>\n",
       "      <td>76561198312638244</td>\n",
       "      <td>Posted July 8.</td>\n",
       "      <td>362890</td>\n",
       "      <td>True</td>\n",
       "      <td>2</td>\n",
       "      <td>NaT</td>\n",
       "      <td>0</td>\n",
       "    </tr>\n",
       "    <tr>\n",
       "      <th>59330</th>\n",
       "      <td>25798</td>\n",
       "      <td>LydiaMorley</td>\n",
       "      <td>Posted July 3.</td>\n",
       "      <td>273110</td>\n",
       "      <td>True</td>\n",
       "      <td>2</td>\n",
       "      <td>NaT</td>\n",
       "      <td>0</td>\n",
       "    </tr>\n",
       "    <tr>\n",
       "      <th>59331</th>\n",
       "      <td>25798</td>\n",
       "      <td>LydiaMorley</td>\n",
       "      <td>Posted July 20.</td>\n",
       "      <td>730</td>\n",
       "      <td>True</td>\n",
       "      <td>2</td>\n",
       "      <td>NaT</td>\n",
       "      <td>0</td>\n",
       "    </tr>\n",
       "    <tr>\n",
       "      <th>59332</th>\n",
       "      <td>25798</td>\n",
       "      <td>LydiaMorley</td>\n",
       "      <td>Posted July 2.</td>\n",
       "      <td>440</td>\n",
       "      <td>True</td>\n",
       "      <td>2</td>\n",
       "      <td>NaT</td>\n",
       "      <td>0</td>\n",
       "    </tr>\n",
       "  </tbody>\n",
       "</table>\n",
       "<p>59333 rows × 8 columns</p>\n",
       "</div>"
      ],
      "text/plain": [
       "       index            user_id                     posted item_id recommend  \\\n",
       "0          0  76561197970982479   Posted November 5, 2011.    1250      True   \n",
       "1          0  76561197970982479      Posted July 15, 2011.   22200      True   \n",
       "2          0  76561197970982479     Posted April 21, 2011.   43110      True   \n",
       "3          1            js41637      Posted June 24, 2014.  251610      True   \n",
       "4          1            js41637  Posted September 8, 2013.  227300      True   \n",
       "...      ...                ...                        ...     ...       ...   \n",
       "59328  25797  76561198312638244            Posted July 10.      70      True   \n",
       "59329  25797  76561198312638244             Posted July 8.  362890      True   \n",
       "59330  25798        LydiaMorley             Posted July 3.  273110      True   \n",
       "59331  25798        LydiaMorley            Posted July 20.     730      True   \n",
       "59332  25798        LydiaMorley             Posted July 2.     440      True   \n",
       "\n",
       "       sentiment_analysis       date  year  \n",
       "0                       2 2011-11-05  2011  \n",
       "1                       2 2011-07-15  2011  \n",
       "2                       2 2011-04-21  2011  \n",
       "3                       2 2014-06-24  2014  \n",
       "4                       0 2013-09-08  2013  \n",
       "...                   ...        ...   ...  \n",
       "59328                   2        NaT     0  \n",
       "59329                   2        NaT     0  \n",
       "59330                   2        NaT     0  \n",
       "59331                   2        NaT     0  \n",
       "59332                   2        NaT     0  \n",
       "\n",
       "[59333 rows x 8 columns]"
      ]
     },
     "execution_count": 51,
     "metadata": {},
     "output_type": "execute_result"
    }
   ],
   "source": [
    "df_user_reviews.reset_index()"
   ]
  },
  {
   "cell_type": "code",
   "execution_count": 54,
   "metadata": {},
   "outputs": [],
   "source": [
    "#dado que el ultimo año de las reseñas que tienen fecha es el 2015, parece que fueron realizadas en el año 2016,\n",
    "# y cuando se realizaban en ese año no se ponía la fecha. Por eso relleno el valor de los años de reseña faltante \n",
    "# con el mayor entre ese año, y el año en que se lanzó el juego\n",
    "df_steamgames.reset_index()\n",
    "\n",
    "# Definir una función personalizada para aplicar la lógica deseada\n",
    "def fill_year(row):\n",
    "    if row['year'] == 0:\n",
    "        # Obtener las filas de df_steamgames que cumplen con la condición\n",
    "        steamgame_rows = df_steamgames[df_steamgames['id'] == row['item_id']]\n",
    "        \n",
    "        if not steamgame_rows.empty:\n",
    "            # Si se encontraron filas, obtener el año de la primera fila y verificar si es mayor a 2016\n",
    "            release_year = steamgame_rows['release_year'].iloc[0]\n",
    "            return max(release_year, 2016)\n",
    "        else:\n",
    "            # Si no se encontraron filas, retornar 2016\n",
    "            return 2016\n",
    "    else:\n",
    "        return row['year']\n",
    "\n",
    "# Aplicar la función personalizada a la columna 'year' utilizando apply\n",
    "df_user_reviews['year'] = df_user_reviews.apply(fill_year, axis=1)\n",
    "\n",
    "# Convertir la columna 'year' a tipo entero\n",
    "df_user_reviews['year'] = df_user_reviews['year'].astype(int)"
   ]
  },
  {
   "cell_type": "code",
   "execution_count": 55,
   "metadata": {},
   "outputs": [],
   "source": [
    "#Agrupo lo que me sirve\n",
    "df_user_item_played_year = df_user_reviews.groupby(['item_id', 'user_id', 'year']).size().reset_index(name='count')\n",
    "df_user_item_played_year.drop('count', axis=1, inplace=True)\n",
    "df_user_item_played_year['item_id']=df_user_item_played_year['item_id'].astype(int)"
   ]
  },
  {
   "cell_type": "markdown",
   "metadata": {},
   "source": [
    "### Combinaciones"
   ]
  },
  {
   "cell_type": "markdown",
   "metadata": {},
   "source": [
    "#### df_genres_detail"
   ]
  },
  {
   "cell_type": "code",
   "execution_count": 57,
   "metadata": {},
   "outputs": [],
   "source": [
    "#Agrego las horas totales de cada juego\n",
    "#primero armo un dataframe que es la suma total de horas jugadas de cada juego\n",
    "df_hoursxgame = df_users_items.groupby(by=['item_id', 'item_name'])['playtime_forever'].sum().reset_index()\n",
    "#cambio el tipo de item_id a integer\n",
    "df_hoursxgame['item_id']=df_hoursxgame['item_id'].astype(int)\n",
    "#agrego las horas al dataframe de steamgames\n",
    "df_steamgames = df_steamgames.merge(df_hoursxgame[['item_id', 'playtime_forever']], on='item_id', how='left')"
   ]
  },
  {
   "cell_type": "code",
   "execution_count": 59,
   "metadata": {},
   "outputs": [],
   "source": [
    "#genero una lista, que luego paso a dataframe, en la que busco el año con el maximo de horas jugadas\n",
    "genres_RY_list=[]\n",
    "#voy iterando por cada género\n",
    "for i in genres:\n",
    "    # genero un dataframe con cada año de lanzamiento y las horas jugadas, un agrupado del dataframe steamgames\n",
    "    df_append = df_steamgames[df_steamgames[i] == 1].groupby(by=['release_year'])['playtime_forever'].sum().reset_index()\n",
    "    # Encuentro el año con la máxima cantidad de horas jugadas\n",
    "    max_hours_year = df_append.loc[df_append['playtime_forever'].idxmax(), 'release_year']\n",
    "    # Agrego los datos a la lista de géneros y años de máximas horas jugadas\n",
    "    genres_RY_list.append({'Genre': i, 'RYMaxHours': max_hours_year})\n",
    "df_genres=pd.DataFrame(genres_RY_list)\n",
    "df_genres['Genre']=df_genres['Genre'].astype(str)"
   ]
  },
  {
   "cell_type": "code",
   "execution_count": 60,
   "metadata": {},
   "outputs": [
    {
     "name": "stderr",
     "output_type": "stream",
     "text": [
      "C:\\Users\\feder\\AppData\\Local\\Temp\\ipykernel_12140\\1684202205.py:2: SettingWithCopyWarning: \n",
      "A value is trying to be set on a copy of a slice from a DataFrame.\n",
      "Try using .loc[row_indexer,col_indexer] = value instead\n",
      "\n",
      "See the caveats in the documentation: https://pandas.pydata.org/pandas-docs/stable/user_guide/indexing.html#returning-a-view-versus-a-copy\n",
      "  df_users_items['item_id']=df_users_items['item_id'].astype(int)\n"
     ]
    }
   ],
   "source": [
    "#cambio el tipo de valor de item id\n",
    "df_users_items['item_id']=df_users_items['item_id'].astype(int)\n",
    "#Incluyo los generos en el dataframe de los usuarios\n",
    "df_users_items = df_users_items.merge(df_steamgames, on='item_id', how='left')\n",
    "#cambio nomnbre y elimino columnas duplicadas\n",
    "df_users_items.rename(columns={'playtime_forever_x':'playtime_forever'}, inplace=True)\n",
    "df_users_items.drop('playtime_forever_y', axis=1, inplace=True)\n",
    "#convierto a enteros las columnas de generos para que ocupe menos memoria\n",
    "for i in genres:\n",
    "    df_users_items[i] = df_users_items[i].fillna(0).astype(int)"
   ]
  },
  {
   "cell_type": "code",
   "execution_count": 61,
   "metadata": {},
   "outputs": [],
   "source": [
    "## JUGADOR QUE MAS HORAS JUGO\n",
    "\n",
    "#genero una lista, que luego paso a dataframe, en la que busco el jugador con el maximo de horas jugadas\n",
    "genres_MaxPlayer_list=[]\n",
    "#voy iterando por cada género\n",
    "for index, row in df_genres.iterrows():\n",
    "    genero = row['Genre']\n",
    "    # genero un dataframe con cada jugador y las horas jugadas de ese genero, un agrupado del dataframe df_users_items\n",
    "    df_append = df_users_items[df_users_items[genero] == 1].groupby(by=['user_id'])['playtime_forever'].sum().reset_index()\n",
    "    if not df_append.empty:\n",
    "        # Encontrar el jugador con la máxima cantidad de horas jugadas\n",
    "        max_hours_player = df_append.loc[df_append['playtime_forever'].idxmax(), 'user_id']\n",
    "    else:\n",
    "    # Manejar el caso en que la Serie esté vacía\n",
    "        max_hours_player= 'Player Not Found'\n",
    "    df_genres.at[index, 'PlayerMH'] = max_hours_player\n"
   ]
  },
  {
   "cell_type": "code",
   "execution_count": 62,
   "metadata": {},
   "outputs": [],
   "source": [
    "## AÑO JUGADOR POR CADA JUGADOR\n",
    "\n",
    "#primero debemos incluir el año en que jugó en una columna de users_items\n",
    "df_users_items=df_users_items.merge(df_user_item_played_year, on=['item_id','user_id'],how='left')\n",
    "\n",
    "# Itero sobre las filas de df_genresplayer\n",
    "for index, row in df_genres.iterrows():\n",
    "    genero = row['Genre']\n",
    "    jugador = row['PlayerMH']\n",
    "    \n",
    "    # Filtro df_users_items para obtener las horas jugadas del jugador por género y año\n",
    "    df_append_player = df_users_items[(df_users_items[genero] == 1) & (df_users_items['user_id'] == jugador)].groupby(by=['year'])['playtime_forever'].sum().reset_index()\n",
    "    df_append_player = df_append_player.sort_values(by='playtime_forever', ascending=False)\n",
    "    \n",
    "    # Obtengo los años jugados y horas jugadas\n",
    "    years_by_player = []\n",
    "    for j in range(min(3, len(df_append_player))):\n",
    "        this_year = '{Año: ' + str(int(df_append_player['year'].iloc[j])) + ', Horas: ' + str(int(df_append_player['playtime_forever'].iloc[j])) + '}'\n",
    "        years_by_player.append(this_year)\n",
    "    years_by_player=str(years_by_player)\n",
    "\n",
    "    # Asigno la lista de años jugados y horas jugadas a la columna 'Years Played' en la fila actual\n",
    "    df_genres.at[index, 'Years Played by player'] = years_by_player\n",
    "    "
   ]
  },
  {
   "cell_type": "code",
   "execution_count": 64,
   "metadata": {},
   "outputs": [],
   "source": [
    "df_genres.to_csv('Datos_procesados/genres_analysis.csv')"
   ]
  },
  {
   "cell_type": "markdown",
   "metadata": {},
   "source": [
    "#### df_year_detail"
   ]
  },
  {
   "cell_type": "code",
   "execution_count": null,
   "metadata": {},
   "outputs": [],
   "source": [
    "'''\n",
    "Devuelve el top 3 de juegos MÁS recomendados por usuarios para el año dado. \n",
    "(reviews.recommend = True y comentarios positivos/neutrales)\n",
    "Ejemplo de retorno: [{\"Puesto 1\" : X}, {\"Puesto 2\" : Y},{\"Puesto 3\" : Z}]\n",
    "\n",
    "Devuelve el top 3 de juegos MENOS recomendados por usuarios para el año dado. \n",
    "(reviews.recommend = False y comentarios negativos)\n",
    "Ejemplo de retorno: [{\"Puesto 1\" : X}, {\"Puesto 2\" : Y},{\"Puesto 3\" : Z}]\n",
    "\n",
    "Según el año de lanzamiento, se devuelve una lista con la cantidad de registros de reseñas de usuarios \n",
    "que se encuentren categorizados con un análisis de sentimiento.\n",
    "# Ejemplo de retorno: {Negative = 182, Neutral = 120, Positive = 278} \n",
    "\n",
    "'''"
   ]
  },
  {
   "cell_type": "markdown",
   "metadata": {},
   "source": [
    "# Load"
   ]
  },
  {
   "cell_type": "markdown",
   "metadata": {},
   "source": [
    "### UsersRecommend"
   ]
  },
  {
   "cell_type": "code",
   "execution_count": null,
   "metadata": {},
   "outputs": [],
   "source": []
  },
  {
   "cell_type": "markdown",
   "metadata": {},
   "source": [
    "### UsersNotRecommend"
   ]
  },
  {
   "cell_type": "code",
   "execution_count": null,
   "metadata": {},
   "outputs": [],
   "source": [
    "''' '''\n",
    "\n",
    "def UsersNotRecommend( año : int ):"
   ]
  },
  {
   "cell_type": "markdown",
   "metadata": {},
   "source": [
    "### sentiment_analysis"
   ]
  },
  {
   "cell_type": "code",
   "execution_count": null,
   "metadata": {},
   "outputs": [],
   "source": [
    "''' '''\n",
    "\n",
    "def sentiment_analysis( año : int ):"
   ]
  },
  {
   "cell_type": "markdown",
   "metadata": {},
   "source": [
    "# EDA"
   ]
  },
  {
   "cell_type": "markdown",
   "metadata": {},
   "source": [
    "# ML"
   ]
  },
  {
   "cell_type": "code",
   "execution_count": null,
   "metadata": {},
   "outputs": [],
   "source": [
    "'''Si es un sistema de recomendación item-item:\n",
    "Ingresando el id de producto, deberíamos recibir una lista con 5 juegos recomendados similares al ingresado.'''\n",
    "\n",
    "def recomendacion_juego( id de producto ):"
   ]
  },
  {
   "cell_type": "code",
   "execution_count": null,
   "metadata": {},
   "outputs": [],
   "source": [
    "'''Si es un sistema de recomendación user-item:\n",
    " Ingresando el id de un usuario, deberíamos recibir una lista con 5 juegos recomendados para dicho usuario.\n",
    "'''\n",
    "\n",
    "def recomendacion_usuario( id de usuario ):"
   ]
  }
 ],
 "metadata": {
  "kernelspec": {
   "display_name": "Python 3",
   "language": "python",
   "name": "python3"
  },
  "language_info": {
   "codemirror_mode": {
    "name": "ipython",
    "version": 3
   },
   "file_extension": ".py",
   "mimetype": "text/x-python",
   "name": "python",
   "nbconvert_exporter": "python",
   "pygments_lexer": "ipython3",
   "version": "3.11.4"
  }
 },
 "nbformat": 4,
 "nbformat_minor": 2
}
