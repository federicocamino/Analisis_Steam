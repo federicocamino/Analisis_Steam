{
 "cells": [
  {
   "cell_type": "markdown",
   "metadata": {},
   "source": [
    "# Extract"
   ]
  },
  {
   "cell_type": "code",
   "execution_count": 1,
   "metadata": {},
   "outputs": [],
   "source": [
    "import gzip             #importo la librería para leer los archivos gzip, formato de compresion en el que vinieron los archivos\n",
    "import pandas as pd     #importo librería pandas que vamos a usar para el data frame\n",
    "import ast              #importo librería ast que me ayuda a leer la gramatica abstracta"
   ]
  },
  {
   "cell_type": "markdown",
   "metadata": {},
   "source": [
    "### Steamgames"
   ]
  },
  {
   "cell_type": "code",
   "execution_count": 2,
   "metadata": {},
   "outputs": [],
   "source": [
    "#si bien se podría descomprimir el archivo y directamente leerlo de pandas, dado que futuras actualziaciones pueden venir como gzip, es preferible trabajarlos desde ese formato\n",
    "with gzip.open('Datos_sin_procesar/steam_games.json.gz', 'rb') as f:\n",
    "    df_steamgames=pd.read_json(f, lines=True)"
   ]
  },
  {
   "cell_type": "markdown",
   "metadata": {},
   "source": [
    "### User Items"
   ]
  },
  {
   "cell_type": "code",
   "execution_count": 3,
   "metadata": {},
   "outputs": [],
   "source": [
    "#comienzo con una lista para poder insertar cada línea del archivo\n",
    "data=[]\n",
    "with gzip.open('Datos_sin_procesar/users_items.json.gz', 'rb') as f:\n",
    "    for line in f:\n",
    "        #cargar la información usando ast, porque si se usa json se dan errores por sintacis de gramatica en el uso de comillas\n",
    "        data.append(ast.literal_eval(line.decode('utf-8')))\n",
    "\n",
    "# Convierto la lista a DataFrame\n",
    "df_users_items = pd.DataFrame(data)"
   ]
  },
  {
   "cell_type": "markdown",
   "metadata": {},
   "source": [
    "### User Reviews"
   ]
  },
  {
   "cell_type": "code",
   "execution_count": 4,
   "metadata": {},
   "outputs": [],
   "source": [
    "#comienzo con una lista para poder insertar cada línea del archivo\n",
    "data=[]\n",
    "with gzip.open('Datos_sin_procesar/user_reviews.json.gz', 'rb') as f:\n",
    "    for line in f:\n",
    "        #cargar la información usando ast, porque si se usa json se dan errores por sintacis de gramatica en el uso de comillas\n",
    "        data.append(ast.literal_eval(line.decode('utf-8')))\n",
    "\n",
    "# Convierto la lista a DataFrame\n",
    "df_user_reviews = pd.DataFrame(data)"
   ]
  },
  {
   "cell_type": "markdown",
   "metadata": {},
   "source": [
    "# Transorm"
   ]
  },
  {
   "cell_type": "markdown",
   "metadata": {},
   "source": [
    "### Steamgames"
   ]
  },
  {
   "cell_type": "code",
   "execution_count": 5,
   "metadata": {},
   "outputs": [
    {
     "name": "stderr",
     "output_type": "stream",
     "text": [
      "C:\\Users\\feder\\AppData\\Local\\Temp\\ipykernel_9204\\2436408977.py:28: FutureWarning: ChainedAssignmentError: behaviour will change in pandas 3.0!\n",
      "You are setting values through chained assignment. Currently this works in certain cases, but when using Copy-on-Write (which will become the default behaviour in pandas 3.0) this will never work to update the original DataFrame or Series, because the intermediate object on which we are setting values will behave as a copy.\n",
      "A typical example is when you are setting values in a column of a DataFrame, like:\n",
      "\n",
      "df[\"col\"][row_indexer] = value\n",
      "\n",
      "Use `df.loc[row_indexer, \"col\"] = values` instead, to perform the assignment in a single step and ensure this keeps updating the original `df`.\n",
      "\n",
      "See the caveats in the documentation: https://pandas.pydata.org/pandas-docs/stable/user_guide/indexing.html#returning-a-view-versus-a-copy\n",
      "\n",
      "  df_steamgames['id'][df_steamgames['id'].isnull()]=df_steamgames['id_aux']\n",
      "C:\\Users\\feder\\AppData\\Local\\Temp\\ipykernel_9204\\2436408977.py:28: SettingWithCopyWarning: \n",
      "A value is trying to be set on a copy of a slice from a DataFrame\n",
      "\n",
      "See the caveats in the documentation: https://pandas.pydata.org/pandas-docs/stable/user_guide/indexing.html#returning-a-view-versus-a-copy\n",
      "  df_steamgames['id'][df_steamgames['id'].isnull()]=df_steamgames['id_aux']\n",
      "C:\\Users\\feder\\AppData\\Local\\Temp\\ipykernel_9204\\2436408977.py:28: FutureWarning: Setting an item of incompatible dtype is deprecated and will raise an error in a future version of pandas. Value '[None '200260']' has dtype incompatible with float64, please explicitly cast to a compatible dtype first.\n",
      "  df_steamgames['id'][df_steamgames['id'].isnull()]=df_steamgames['id_aux']\n"
     ]
    }
   ],
   "source": [
    "#Tratamiento de Nulos\n",
    "\n",
    "#se eliminan los valores con todos nulos\n",
    "df_steamgames.dropna(inplace= True, how='all')\n",
    "\n",
    "#se verifica si existe algún id que esté nulo mediante df_steamgames[df_steamgames['id'].isnull()] y se concluye que sí\n",
    "#se verifica sin con la url podemos obetener el id del juego, mediante el par df_steamgames[['url','id']], \n",
    "#y se concluye que sí, y se pasa a asignar ese valor a los faltantes\n",
    "\n",
    "#Llenado de Ids nulos\n",
    "\n",
    "#se importa la libreria re para poder trabajar sobre la extracción del ID de la url, y se genera una función para este propósito\n",
    "import re\n",
    "\n",
    "def extraer_numero_url(url):\n",
    "    if url is None:\n",
    "        return None\n",
    "    else:\n",
    "        match = re.search(r'(\\d+)', url)\n",
    "        if match:\n",
    "            return match.group(1)\n",
    "        else:\n",
    "            return None\n",
    "\n",
    "#aplicamos la funcion a una columna auxiliar\n",
    "df_steamgames['id_aux']=df_steamgames['url'].apply(extraer_numero_url)\n",
    "#aplicamos la columna auxiliar a los valores nulos\n",
    "df_steamgames['id'][df_steamgames['id'].isnull()]=df_steamgames['id_aux']\n",
    "#eliminamos los id nulos\n",
    "df_steamgames.dropna(subset=['id'], inplace=True)\n",
    "#eliminamos la columna auxiliar\n",
    "df_steamgames.drop(columns=['id_aux'], inplace=True)\n",
    "\n",
    "#Se llena el title nulo con el app_name\n",
    "df_steamgames.loc[df_steamgames['title'].isnull(), 'title'] = df_steamgames['app_name']\n",
    "\n",
    "#Se llena la columna tags nula con la columna genres. Esto se utiliza luego en el algotirmo de ML\n",
    "df_steamgames.loc[df_steamgames['tags'].isnull(), 'tags'] = df_steamgames['genres']"
   ]
  },
  {
   "cell_type": "code",
   "execution_count": 6,
   "metadata": {},
   "outputs": [],
   "source": [
    "#Tratamiento de Duplicados\n",
    "#se eliimnan los registros con Id duplicado\n",
    "df_steamgames.drop_duplicates(subset='id', inplace=True)"
   ]
  },
  {
   "cell_type": "code",
   "execution_count": 7,
   "metadata": {},
   "outputs": [],
   "source": [
    "#se cambian los nombres de columas que se usan más adelante\n",
    "df_steamgames = df_steamgames.rename(columns={'id': 'item_id'})\n",
    "df_steamgames = df_steamgames.rename(columns={'title': 'item_title'})\n",
    "#se cambia el formato de la columna itemid a entero\n",
    "df_steamgames['item_id']=df_steamgames['item_id'].astype(int)\n",
    "#se genera un diccionario de Id y nombre de la app, para su uso posterior (se procesa siempre por Id, pero a la hora de mostrar los datos se muestra el nombre)\n",
    "titlexid=dict(zip(df_steamgames['item_id'],df_steamgames['item_title']))\n"
   ]
  },
  {
   "cell_type": "markdown",
   "metadata": {},
   "source": [
    "La columna genres tiene listas con los generos a los que puede pertenecer el juego. Para un mejor procesamiento a posteriori de los datos, se transforma esa columna en varias columnas dummies con cada uno de esos valores.\n",
    "También se tiene la columna tags, pero que tiene muchos más valores. Algunos de ellos son las categorías, y también otros tipos de etiquetas. Se arma un dataframe para rellenar los valores faltantes de etiquetas."
   ]
  },
  {
   "cell_type": "code",
   "execution_count": 8,
   "metadata": {},
   "outputs": [],
   "source": [
    "# primero se llenan los nulos con valor [], para su posterior procesamiento\n",
    "# Se define una función para reemplazar los valores nulos con una lista vacía\n",
    "def reemplazonulo(lst):\n",
    "    return lst if isinstance(lst, list) else []\n",
    "# Aplica la función a la columna con listas\n",
    "df_steamgames['genres'] = df_steamgames['genres'].apply(reemplazonulo)\n",
    "df_steamgames['tags'] = df_steamgames['tags'].apply(reemplazonulo)\n",
    "\n",
    "#Se separa la columna de generos en un dataframe\n",
    "df_genres = df_steamgames['genres'].apply(lambda x: pd.Series({val: 1 for val in x}))\n",
    "#lleno los nulos con 0\n",
    "df_genres.fillna(0, inplace=True)\n",
    "#Se renombran columnas que tienen mal los nombres\n",
    "df_genres.rename(columns={'Design &amp; Illustration':'Design & Illustration','Animation &amp; Modeling':'Animation & Modeling'}, inplace= True)\n",
    "\n",
    "#Se genera el dataframe de de tags\n",
    "df_tags = df_steamgames['tags'].apply(lambda x: pd.Series({val: 1 for val in x}))\n",
    "df_tags.fillna(0, inplace=True)\n",
    "#idem caso anterior con nombres mal importados\n",
    "df_tags.rename(columns={'Design &amp; Illustration':'Design & Illustration','Animation &amp; Modeling':'Animation & Modeling'}, inplace= True)\n",
    "\n",
    "#generamos un dataframe que usaremos luego en el algoritmo de ML\n",
    "df_tags_for_ML = pd.concat([df_steamgames[['item_id', 'item_title']], df_tags], axis=1)\n",
    "#cambiamos de formato sus columnas para que ocupen menos espacio\n",
    "columnas=df_tags_for_ML.columns.tolist()\n",
    "columnas.remove('item_title')\n",
    "for i in columnas:\n",
    "    df_tags_for_ML[i]= df_tags_for_ML[i].astype(int)\n",
    "#se cambia el indice al id\n",
    "df_tags_for_ML.set_index('item_id', inplace=True)\n",
    "#se exporta el dataframe, y se elimina\n",
    "df_tags_for_ML.to_csv('Datos_procesados/df_tags_for_ML.csv')\n",
    "#se elimina para que no ocupe más espacio\n",
    "del df_tags_for_ML\n",
    "\n",
    "genres=df_genres.columns.tolist()\n",
    "#se completan las categorías que son nulas en la columna de categoria pero si fueron etiquetadas usando los tags\n",
    "for i in genres:\n",
    "    for index, row in df_genres.iterrows():\n",
    "        if row[i] == 0:\n",
    "            df_genres.at[index, i] = df_tags.at[index, i]\n",
    "df_steamgames=pd.concat([df_steamgames,df_genres], axis=1)\n",
    "\n",
    "#se cambia el formato de las columnas para ocupar menos espacio en memoria\n",
    "for i in genres:\n",
    "    df_steamgames[i] = df_steamgames[i].fillna(0)\n",
    "    df_steamgames[i] = df_steamgames[i].astype(int)\n",
    "\n",
    "#se eliminan los dataframes que ya no usamos\n",
    "del df_genres\n",
    "del df_tags"
   ]
  },
  {
   "cell_type": "code",
   "execution_count": 9,
   "metadata": {},
   "outputs": [],
   "source": [
    "#Año de lanzamiento\n",
    "\n",
    "#Se inserta el año de lanzamiento\n",
    "df_steamgames['release_date'] = pd.to_datetime(df_steamgames['release_date'], errors='coerce')\n",
    "df_steamgames.loc[~df_steamgames['release_date'].notnull(), 'release_date'] = None\n",
    "df_steamgames['release_year'] = df_steamgames['release_date'].dt.year\n",
    "\n",
    "#se cambia el tipos de datos para ocupar menos espacio\n",
    "df_steamgames['release_year'] = df_steamgames['release_year'].fillna(0)\n",
    "df_steamgames['release_year'] = df_steamgames['release_year'].astype(int)\n",
    "\n",
    "#Se genera un diccionario con el año de lanzamiento de cada Id (se usa a posteriori)\n",
    "releaseyearxid=dict(zip(df_steamgames['item_id'],df_steamgames['release_year']))"
   ]
  },
  {
   "cell_type": "code",
   "execution_count": 10,
   "metadata": {},
   "outputs": [],
   "source": [
    "#Precio: cambiamos los valores de texto por 0\n",
    "df_steamgames['price'] = pd.to_numeric(df_steamgames['price'], errors='coerce').fillna(0)"
   ]
  },
  {
   "cell_type": "code",
   "execution_count": 11,
   "metadata": {},
   "outputs": [],
   "source": [
    "#se eliminan las columnas que no sirven\n",
    "df_steamgames.drop(['publisher','app_name','genres', 'tags' ,'url','release_date','reviews_url','specs','early_access',\n",
    "                                 'developer'],axis=1,inplace=True)"
   ]
  },
  {
   "cell_type": "markdown",
   "metadata": {},
   "source": [
    "### User Items"
   ]
  },
  {
   "cell_type": "markdown",
   "metadata": {},
   "source": [
    "Se posee en la columna items listas con diccionarios. Cada diccionario tiene 4 atributos. Se genera una fila para cada diccionario, y 4 columnas posteriores a partir del diccionario"
   ]
  },
  {
   "cell_type": "code",
   "execution_count": 12,
   "metadata": {},
   "outputs": [],
   "source": [
    "#primero se inserta una fila por cada diccionario de la columna item\n",
    "df_users_items=df_users_items.explode('items')\n",
    "df_users_items = df_users_items.reset_index(drop=True)"
   ]
  },
  {
   "cell_type": "code",
   "execution_count": 13,
   "metadata": {},
   "outputs": [],
   "source": [
    "#luego se arma un dataframe nuevo a partir de los diccionarios de item, con una columna por cada atributo\n",
    "# el metodo normal sería este, pero tarda mucho, con lo cual buscamos extraer columna por columna df_users_items_items=df_users_items['items'].apply(pd.Series)\n",
    "\n",
    "def obtener_elemento(diccionario, clave_busqueda):\n",
    "    if isinstance(diccionario, dict):\n",
    "        return diccionario.get(clave_busqueda)\n",
    "    else:\n",
    "        return diccionario\n",
    "\n",
    "df_users_items['item_id'] = df_users_items['items'].apply(lambda x: obtener_elemento(x, 'item_id'))\n",
    "df_users_items['item_name'] = df_users_items['items'].apply(lambda x: obtener_elemento(x, 'item_name'))\n",
    "df_users_items['playtime_forever'] = df_users_items['items'].apply(lambda x: obtener_elemento(x, 'playtime_forever'))\n",
    "df_users_items['playtime_2weeks'] = df_users_items['items'].apply(lambda x: obtener_elemento(x, 'playtime_2weeks'))"
   ]
  },
  {
   "cell_type": "code",
   "execution_count": 14,
   "metadata": {},
   "outputs": [],
   "source": [
    "#se genera un diccionario con los items de cada jugador\n",
    "itemsxplayer=dict(zip(df_users_items['user_id'],df_users_items['items_count']))"
   ]
  },
  {
   "cell_type": "code",
   "execution_count": 15,
   "metadata": {},
   "outputs": [],
   "source": [
    "# se sacan las columnas items que ya no no utiles\n",
    "df_users_items.drop(['steam_id','user_url','items', 'items_count'], axis=1,inplace= True)\n",
    "#se eliminan las filas que no tienen valor de juego\n",
    "df_users_items = df_users_items.dropna(subset=['item_id', 'item_name'], how='all')"
   ]
  },
  {
   "cell_type": "markdown",
   "metadata": {},
   "source": [
    "### User Reviews"
   ]
  },
  {
   "cell_type": "markdown",
   "metadata": {},
   "source": [
    "Cada objeto de la columna review es una lista que tiene varios valores de diccionario, de 7 atributos 'funny', 'posted',   'last_edited', 'item_id', 'helpful', 'recommend', 'review'. Se debe transformar cada diccionario en una fila, y cada uno de estos 7 atriburos en una columna, de manera tal que el dataframe refleje la realidad de datos que tenemos"
   ]
  },
  {
   "cell_type": "code",
   "execution_count": 16,
   "metadata": {},
   "outputs": [
    {
     "data": {
      "text/html": [
       "<div>\n",
       "<style scoped>\n",
       "    .dataframe tbody tr th:only-of-type {\n",
       "        vertical-align: middle;\n",
       "    }\n",
       "\n",
       "    .dataframe tbody tr th {\n",
       "        vertical-align: top;\n",
       "    }\n",
       "\n",
       "    .dataframe thead th {\n",
       "        text-align: right;\n",
       "    }\n",
       "</style>\n",
       "<table border=\"1\" class=\"dataframe\">\n",
       "  <thead>\n",
       "    <tr style=\"text-align: right;\">\n",
       "      <th></th>\n",
       "      <th>index</th>\n",
       "      <th>user_id</th>\n",
       "      <th>user_url</th>\n",
       "      <th>reviews</th>\n",
       "    </tr>\n",
       "  </thead>\n",
       "  <tbody>\n",
       "    <tr>\n",
       "      <th>0</th>\n",
       "      <td>0</td>\n",
       "      <td>76561197970982479</td>\n",
       "      <td>http://steamcommunity.com/profiles/76561197970...</td>\n",
       "      <td>{'funny': '', 'posted': 'Posted November 5, 20...</td>\n",
       "    </tr>\n",
       "    <tr>\n",
       "      <th>1</th>\n",
       "      <td>0</td>\n",
       "      <td>76561197970982479</td>\n",
       "      <td>http://steamcommunity.com/profiles/76561197970...</td>\n",
       "      <td>{'funny': '', 'posted': 'Posted July 15, 2011....</td>\n",
       "    </tr>\n",
       "    <tr>\n",
       "      <th>2</th>\n",
       "      <td>0</td>\n",
       "      <td>76561197970982479</td>\n",
       "      <td>http://steamcommunity.com/profiles/76561197970...</td>\n",
       "      <td>{'funny': '', 'posted': 'Posted April 21, 2011...</td>\n",
       "    </tr>\n",
       "    <tr>\n",
       "      <th>3</th>\n",
       "      <td>1</td>\n",
       "      <td>js41637</td>\n",
       "      <td>http://steamcommunity.com/id/js41637</td>\n",
       "      <td>{'funny': '', 'posted': 'Posted June 24, 2014....</td>\n",
       "    </tr>\n",
       "    <tr>\n",
       "      <th>4</th>\n",
       "      <td>1</td>\n",
       "      <td>js41637</td>\n",
       "      <td>http://steamcommunity.com/id/js41637</td>\n",
       "      <td>{'funny': '', 'posted': 'Posted September 8, 2...</td>\n",
       "    </tr>\n",
       "    <tr>\n",
       "      <th>...</th>\n",
       "      <td>...</td>\n",
       "      <td>...</td>\n",
       "      <td>...</td>\n",
       "      <td>...</td>\n",
       "    </tr>\n",
       "    <tr>\n",
       "      <th>59328</th>\n",
       "      <td>25797</td>\n",
       "      <td>76561198312638244</td>\n",
       "      <td>http://steamcommunity.com/profiles/76561198312...</td>\n",
       "      <td>{'funny': '', 'posted': 'Posted July 10.', 'la...</td>\n",
       "    </tr>\n",
       "    <tr>\n",
       "      <th>59329</th>\n",
       "      <td>25797</td>\n",
       "      <td>76561198312638244</td>\n",
       "      <td>http://steamcommunity.com/profiles/76561198312...</td>\n",
       "      <td>{'funny': '', 'posted': 'Posted July 8.', 'las...</td>\n",
       "    </tr>\n",
       "    <tr>\n",
       "      <th>59330</th>\n",
       "      <td>25798</td>\n",
       "      <td>LydiaMorley</td>\n",
       "      <td>http://steamcommunity.com/id/LydiaMorley</td>\n",
       "      <td>{'funny': '1 person found this review funny', ...</td>\n",
       "    </tr>\n",
       "    <tr>\n",
       "      <th>59331</th>\n",
       "      <td>25798</td>\n",
       "      <td>LydiaMorley</td>\n",
       "      <td>http://steamcommunity.com/id/LydiaMorley</td>\n",
       "      <td>{'funny': '', 'posted': 'Posted July 20.', 'la...</td>\n",
       "    </tr>\n",
       "    <tr>\n",
       "      <th>59332</th>\n",
       "      <td>25798</td>\n",
       "      <td>LydiaMorley</td>\n",
       "      <td>http://steamcommunity.com/id/LydiaMorley</td>\n",
       "      <td>{'funny': '', 'posted': 'Posted July 2.', 'las...</td>\n",
       "    </tr>\n",
       "  </tbody>\n",
       "</table>\n",
       "<p>59333 rows × 4 columns</p>\n",
       "</div>"
      ],
      "text/plain": [
       "       index            user_id  \\\n",
       "0          0  76561197970982479   \n",
       "1          0  76561197970982479   \n",
       "2          0  76561197970982479   \n",
       "3          1            js41637   \n",
       "4          1            js41637   \n",
       "...      ...                ...   \n",
       "59328  25797  76561198312638244   \n",
       "59329  25797  76561198312638244   \n",
       "59330  25798        LydiaMorley   \n",
       "59331  25798        LydiaMorley   \n",
       "59332  25798        LydiaMorley   \n",
       "\n",
       "                                                user_url  \\\n",
       "0      http://steamcommunity.com/profiles/76561197970...   \n",
       "1      http://steamcommunity.com/profiles/76561197970...   \n",
       "2      http://steamcommunity.com/profiles/76561197970...   \n",
       "3                   http://steamcommunity.com/id/js41637   \n",
       "4                   http://steamcommunity.com/id/js41637   \n",
       "...                                                  ...   \n",
       "59328  http://steamcommunity.com/profiles/76561198312...   \n",
       "59329  http://steamcommunity.com/profiles/76561198312...   \n",
       "59330           http://steamcommunity.com/id/LydiaMorley   \n",
       "59331           http://steamcommunity.com/id/LydiaMorley   \n",
       "59332           http://steamcommunity.com/id/LydiaMorley   \n",
       "\n",
       "                                                 reviews  \n",
       "0      {'funny': '', 'posted': 'Posted November 5, 20...  \n",
       "1      {'funny': '', 'posted': 'Posted July 15, 2011....  \n",
       "2      {'funny': '', 'posted': 'Posted April 21, 2011...  \n",
       "3      {'funny': '', 'posted': 'Posted June 24, 2014....  \n",
       "4      {'funny': '', 'posted': 'Posted September 8, 2...  \n",
       "...                                                  ...  \n",
       "59328  {'funny': '', 'posted': 'Posted July 10.', 'la...  \n",
       "59329  {'funny': '', 'posted': 'Posted July 8.', 'las...  \n",
       "59330  {'funny': '1 person found this review funny', ...  \n",
       "59331  {'funny': '', 'posted': 'Posted July 20.', 'la...  \n",
       "59332  {'funny': '', 'posted': 'Posted July 2.', 'las...  \n",
       "\n",
       "[59333 rows x 4 columns]"
      ]
     },
     "execution_count": 16,
     "metadata": {},
     "output_type": "execute_result"
    }
   ],
   "source": [
    "#se pasa cada lista a una fila, aplicando metodo explode\n",
    "df_user_reviews=df_user_reviews.explode('reviews')\n",
    "#se pasa cada atributo del diccionario a una columna nueva, aplicando metodo apply\n",
    "df_user_reviews_exp=df_user_reviews['reviews'].apply(pd.Series)\n",
    "df_user_reviews.reset_index()"
   ]
  },
  {
   "cell_type": "code",
   "execution_count": 17,
   "metadata": {},
   "outputs": [],
   "source": [
    "#se junta el dataframe original y las nuevas columnas\n",
    "df_user_reviews=pd.concat([df_user_reviews, df_user_reviews_exp], axis=1)\n",
    "#se elimina la columna original\n",
    "df_user_reviews.drop(['reviews','user_url', 'funny', 'last_edited', \n",
    "                      'helpful', 0], axis=1, inplace=True)\n",
    "#se elimina el dataframe que ya no se usa\n",
    "del df_user_reviews_exp"
   ]
  },
  {
   "cell_type": "code",
   "execution_count": 18,
   "metadata": {},
   "outputs": [],
   "source": [
    "# se realiza un analisis de sentimientos usando la librería textblob\n",
    "from textblob import TextBlob\n",
    "df_user_reviews['review'] = df_user_reviews['review'].astype(str)\n",
    "df_user_reviews['polarity'] = df_user_reviews['review'].apply(lambda text: TextBlob(text).sentiment.polarity)\n",
    "df_user_reviews['sentiment_analysis'] = df_user_reviews['polarity'].apply(lambda x: 0 if x < 0 else (1 if x == 0 else 2))\n",
    "df_user_reviews.drop(['review','polarity'], axis=1, inplace=True)"
   ]
  },
  {
   "cell_type": "code",
   "execution_count": 19,
   "metadata": {},
   "outputs": [],
   "source": [
    "#se obtiene el año de la review\n",
    "df_user_reviews['date'] = df_user_reviews['posted'].str.extract(r'(\\w+\\s\\d+(?:,\\s\\d{4})?)')\n",
    "df_user_reviews['date'] = pd.to_datetime(df_user_reviews['date'], format='%B %d, %Y', errors='coerce')\n",
    "df_user_reviews['year'] = df_user_reviews['date'].dt.year\n",
    "# se convierten los NaN a 0 en la columna 'year'\n",
    "df_user_reviews['year'] = df_user_reviews['year'].fillna(0)\n",
    "# se convierte la columna 'year' a tipo entero\n",
    "df_user_reviews['year'] = df_user_reviews['year'].astype(int)\n",
    "\n",
    "#tratamiento de las fechas de reviews que no tienen año \n",
    "\n",
    "#dado que el ultimo año de las reseñas que tienen fecha es el 2015, parece que fueron realizadas en el año 2016,\n",
    "# y cuando se realizaban en ese año no se ponía la fecha. Por eso relleno el valor de los años de reseña faltante \n",
    "# con el mayor entre ese año, y el año en que se lanzó el juego\n",
    "df_steamgames.reset_index()\n",
    "\n",
    "# Definir una función personalizada para aplicar la lógica deseada\n",
    "def fill_year(row):\n",
    "    if row['year'] == 0:\n",
    "        # Obtener las filas de df_steamgames que cumplen con la condición\n",
    "        steamgame_rows = df_steamgames[df_steamgames['item_id'] == row['item_id']]\n",
    "        \n",
    "        if not steamgame_rows.empty:\n",
    "            # Si se encontraron filas, obtener el año de la primera fila y verificar si es mayor a 2016\n",
    "            release_year = steamgame_rows['release_year'].iloc[0]\n",
    "            return max(release_year, 2016)\n",
    "        else:\n",
    "            # Si no se encontraron filas, retornar 2016\n",
    "            return 2016\n",
    "    else:\n",
    "        return row['year']\n",
    "\n",
    "# Aplicar la función personalizada a la columna 'year' utilizando apply\n",
    "df_user_reviews['year'] = df_user_reviews.apply(fill_year, axis=1)\n",
    "\n",
    "# Convertir la columna 'year' a tipo entero\n",
    "df_user_reviews['year'] = df_user_reviews['year'].astype(int)"
   ]
  },
  {
   "cell_type": "code",
   "execution_count": 20,
   "metadata": {},
   "outputs": [
    {
     "name": "stderr",
     "output_type": "stream",
     "text": [
      "C:\\Users\\feder\\AppData\\Local\\Temp\\ipykernel_9204\\384322962.py:6: FutureWarning: A value is trying to be set on a copy of a DataFrame or Series through chained assignment using an inplace method.\n",
      "The behavior will change in pandas 3.0. This inplace method will never work because the intermediate object on which we are setting values always behaves as a copy.\n",
      "\n",
      "For example, when doing 'df[col].method(value, inplace=True)', try using 'df.method({col: value}, inplace=True)' or df[col] = df[col].method(value) instead, to perform the operation inplace on the original object.\n",
      "\n",
      "\n",
      "  df_user_reviews['item_id'].fillna(0, inplace=True)\n"
     ]
    }
   ],
   "source": [
    "#se resetea el indice\n",
    "df_user_reviews.reset_index(inplace=True)\n",
    "df_user_reviews.drop('index', axis=1, inplace=True)\n",
    "\n",
    "#se cambian los tipos de formato que necesito\n",
    "df_user_reviews['item_id'].fillna(0, inplace=True)\n",
    "df_user_reviews['item_id']=df_user_reviews['item_id'].astype(int)"
   ]
  },
  {
   "cell_type": "markdown",
   "metadata": {},
   "source": [
    "# Tranformations for EDA and functions"
   ]
  },
  {
   "cell_type": "markdown",
   "metadata": {},
   "source": [
    "### Data Obtained by grouping: played year by game, reviews stats by game and player from user_reviews"
   ]
  },
  {
   "cell_type": "code",
   "execution_count": 21,
   "metadata": {},
   "outputs": [],
   "source": [
    "#Se genera una agrupacion por user_item para obtener de la misma el año en que se jugó al juego\n",
    "df_user_item_played_year = df_user_reviews.groupby(['item_id', 'user_id', 'year']).size().reset_index(name='count')\n",
    "df_user_item_played_year.drop('count', axis=1, inplace=True)\n",
    "df_user_item_played_year['item_id']=df_user_item_played_year['item_id'].astype(int)\n",
    "\n",
    "#se generan dos dataframes para su posterior uso, uno para usuarios y otro para juegos, para su uso en el EDA\n",
    "\n",
    "#agrupado por juego\n",
    "df_reviews_by_game=df_user_reviews.groupby('item_id').agg({\n",
    "    'recommend': 'mean',\n",
    "    'sentiment_analysis': 'mean',\n",
    "    'user_id': 'count'\n",
    "}).reset_index()\n",
    "df_reviews_by_game.columns = ['item_id', 'mean_recommend', 'mean_sentiment_analysis', 'total_reviews']\n",
    "df_reviews_by_game.set_index('item_id')\n",
    "\n",
    "#agrupado por jugador\n",
    "df_reviews_by_player=df_user_reviews.groupby('user_id').agg({\n",
    "    'recommend': 'mean',\n",
    "    'sentiment_analysis': 'mean',\n",
    "    'item_id': 'count'\n",
    "}).reset_index()\n",
    "df_reviews_by_player.columns = ['user_id', 'mean_recommend', 'mean_sentiment_analysis', 'total_reviews']"
   ]
  },
  {
   "cell_type": "markdown",
   "metadata": {},
   "source": [
    "### Data Obtained: years played by game, from users_items"
   ]
  },
  {
   "cell_type": "code",
   "execution_count": 22,
   "metadata": {},
   "outputs": [],
   "source": [
    "#Se agregan las horas totales de cada juego\n",
    "#primero se arma un dataframe que es la suma total de horas jugadas de cada juego\n",
    "df_hoursxgame = df_users_items.groupby(by=['item_id', 'item_name'])['playtime_forever'].sum().reset_index()\n",
    "#se cambia el tipo de item_id a integer\n",
    "df_hoursxgame['item_id']=df_hoursxgame['item_id'].astype(int)\n",
    "#se agregan las horas al dataframe de steamgames\n",
    "df_steamgames = df_steamgames.merge(df_hoursxgame[['item_id', 'playtime_forever']], on='item_id', how='left')"
   ]
  },
  {
   "cell_type": "markdown",
   "metadata": {},
   "source": [
    "### Data added: genres at users_items "
   ]
  },
  {
   "cell_type": "code",
   "execution_count": 23,
   "metadata": {},
   "outputs": [],
   "source": [
    "#Se agregan los generos de cada juego al df_user_items\n",
    "#se cambia el tipo de valor de item id\n",
    "df_users_items['item_id']=df_users_items['item_id'].astype(int)\n",
    "#se incluyen los generos en el dataframe de los usuarios\n",
    "df_users_items = df_users_items.merge(df_steamgames, on='item_id', how='left')\n",
    "#se cambia nombre y elimino columnas duplicadas\n",
    "df_users_items.rename(columns={'playtime_forever_x':'playtime_forever'}, inplace=True)\n",
    "df_users_items.drop('playtime_forever_y', axis=1, inplace=True)\n",
    "#se convierten a enteros las columnas de generos para que ocupe menos memoria\n",
    "for i in genres:\n",
    "    df_users_items[i] = df_users_items[i].fillna(0).astype(int)"
   ]
  },
  {
   "cell_type": "markdown",
   "metadata": {},
   "source": [
    "### Data added: played year at users_items"
   ]
  },
  {
   "cell_type": "code",
   "execution_count": 24,
   "metadata": {},
   "outputs": [],
   "source": [
    "#se incluye el año en el que cada jugador jugó al juego en una columna de users_items, obtenidos a partir del año de review\n",
    "df_users_items=df_users_items.merge(df_user_item_played_year, on=['item_id','user_id'],how='left')\n"
   ]
  },
  {
   "cell_type": "code",
   "execution_count": 27,
   "metadata": {},
   "outputs": [],
   "source": [
    "# se incluye el año de lanzamiento como año en el que se jugó al juego cuando el mismo no tenga reviews, si es mayor a 2010\n",
    "df_users_items.loc[df_users_items['year'].isnull() & (df_users_items['release_year'] >= 2010), 'year'] = df_users_items['release_year']\n"
   ]
  },
  {
   "cell_type": "markdown",
   "metadata": {},
   "source": [
    "### Data added: release year at user_reviews"
   ]
  },
  {
   "cell_type": "code",
   "execution_count": 29,
   "metadata": {},
   "outputs": [
    {
     "name": "stderr",
     "output_type": "stream",
     "text": [
      "C:\\Users\\feder\\AppData\\Local\\Temp\\ipykernel_9204\\2466913048.py:4: FutureWarning: A value is trying to be set on a copy of a DataFrame or Series through chained assignment using an inplace method.\n",
      "The behavior will change in pandas 3.0. This inplace method will never work because the intermediate object on which we are setting values always behaves as a copy.\n",
      "\n",
      "For example, when doing 'df[col].method(value, inplace=True)', try using 'df.method({col: value}, inplace=True)' or df[col] = df[col].method(value) instead, to perform the operation inplace on the original object.\n",
      "\n",
      "\n",
      "  df_user_reviews['release_year'].fillna(0, inplace=True)\n"
     ]
    }
   ],
   "source": [
    "#se suma al dataframe de user_reviews el año de lanzamiento del juego.\n",
    "df_user_reviews['release_year']=df_user_reviews['item_id'].map(pd.Series(releaseyearxid))\n",
    "#se cambia el formato de release year\n",
    "df_user_reviews['release_year'].fillna(0, inplace=True)\n",
    "df_user_reviews['release_year']=df_user_reviews['release_year'].astype(int)"
   ]
  },
  {
   "cell_type": "markdown",
   "metadata": {},
   "source": [
    "### Data added: reviews by game to df_steamgames"
   ]
  },
  {
   "cell_type": "code",
   "execution_count": 30,
   "metadata": {},
   "outputs": [],
   "source": [
    "df_steamgames = df_steamgames.merge(df_reviews_by_game, on='item_id', how='left')"
   ]
  },
  {
   "cell_type": "markdown",
   "metadata": {},
   "source": [
    "### Data created: players by game, and added to df_steamgames"
   ]
  },
  {
   "cell_type": "code",
   "execution_count": 31,
   "metadata": {},
   "outputs": [],
   "source": [
    "#se genera el dataframe agrupado\n",
    "df_users_by_items = df_users_items.groupby(by=['item_id'])['user_id'].count().reset_index()\n",
    "#se cambia el nombre de las columnas\n",
    "df_users_by_items.rename(columns={'user_id':'players'}, inplace=True)\n",
    "#se agrega al df_steamgames\n",
    "df_steamgames = df_steamgames.merge(df_users_by_items, on='item_id', how='left')\n"
   ]
  },
  {
   "cell_type": "markdown",
   "metadata": {},
   "source": [
    "### df_users created and reviews by player data added"
   ]
  },
  {
   "cell_type": "code",
   "execution_count": 32,
   "metadata": {},
   "outputs": [],
   "source": [
    "#agrupado por juego\n",
    "df_users=df_users_items.groupby('user_id').agg({\n",
    "    'item_id':'count',\n",
    "    'playtime_forever':'sum',\n",
    "    'playtime_2weeks':'sum',  \n",
    "    'price':'sum', \n",
    "    'Action':'sum', \n",
    "    'Casual':'sum', \n",
    "    'Indie':'sum',\n",
    "    'Simulation':'sum', \n",
    "    'Strategy':'sum', \n",
    "    'Free to Play':'sum', \n",
    "    'RPG':'sum', \n",
    "    'Sports':'sum', \n",
    "    'Adventure':'sum',\n",
    "    'Racing':'sum', \n",
    "    'Early Access':'sum', \n",
    "    'Massively Multiplayer':'sum',\n",
    "    'Animation & Modeling':'sum', \n",
    "    'Video Production':'sum', \n",
    "    'Utilities':'sum',\n",
    "    'Web Publishing':'sum', \n",
    "    'Education':'sum', \n",
    "    'Software Training':'sum',\n",
    "    'Design & Illustration':'sum', \n",
    "    'Audio Production':'sum', \n",
    "    'Photo Editing':'sum',\n",
    "    'Accounting':'sum'\n",
    "}).reset_index()\n",
    "df_users.rename(columns={'item_id':'items','price':'total_spent'}, inplace=True)"
   ]
  },
  {
   "cell_type": "code",
   "execution_count": 33,
   "metadata": {},
   "outputs": [],
   "source": [
    "#se agregan los datos de reviews del jugador\n",
    "df_users = df_users.merge(df_reviews_by_player, on='user_id', how='left')"
   ]
  },
  {
   "cell_type": "markdown",
   "metadata": {},
   "source": [
    "# Tranformation for functions and exports"
   ]
  },
  {
   "cell_type": "markdown",
   "metadata": {},
   "source": [
    "#### df_genres_detail"
   ]
  },
  {
   "cell_type": "code",
   "execution_count": 34,
   "metadata": {},
   "outputs": [],
   "source": [
    "#genero una lista, que luego paso a dataframe, en la que busco el año con el maximo de horas jugadas\n",
    "genres_RY_list=[]\n",
    "#voy iterando por cada género\n",
    "for i in genres:\n",
    "    # genero un dataframe con cada año de lanzamiento y las horas jugadas, un agrupado del dataframe steamgames\n",
    "    df_append = df_steamgames[df_steamgames[i] == 1].groupby(by=['release_year'])['playtime_forever'].sum().reset_index()\n",
    "    # Encuentro el año con la máxima cantidad de horas jugadas\n",
    "    max_hours_year = df_append.loc[df_append['playtime_forever'].idxmax(), 'release_year']\n",
    "    # Agrego los datos a la lista de géneros y años de máximas horas jugadas\n",
    "    genres_RY_list.append({'Genre': i, 'RYMaxHours': max_hours_year})\n",
    "df_genres=pd.DataFrame(genres_RY_list)\n",
    "df_genres['Genre']=df_genres['Genre'].astype(str)"
   ]
  },
  {
   "cell_type": "code",
   "execution_count": 35,
   "metadata": {},
   "outputs": [],
   "source": [
    "## JUGADOR QUE MAS HORAS JUGO\n",
    "\n",
    "#genero una lista, que luego paso a dataframe, en la que busco el jugador con el maximo de horas jugadas\n",
    "genres_MaxPlayer_list=[]\n",
    "#voy iterando por cada género\n",
    "for index, row in df_genres.iterrows():\n",
    "    genero = row['Genre']\n",
    "    # genero un dataframe con cada jugador y las horas jugadas de ese genero, un agrupado del dataframe df_users_items\n",
    "    df_append = df_users_items[df_users_items[genero] == 1].groupby(by=['user_id'])['playtime_forever'].sum().reset_index()\n",
    "    if not df_append.empty:\n",
    "        # Encontrar el jugador con la máxima cantidad de horas jugadas\n",
    "        max_hours_player = df_append.loc[df_append['playtime_forever'].idxmax(), 'user_id']\n",
    "    else:\n",
    "    # Manejar el caso en que la Serie esté vacía\n",
    "        max_hours_player= 'Player Not Found'\n",
    "    df_genres.at[index, 'PlayerMH'] = max_hours_player\n"
   ]
  },
  {
   "cell_type": "code",
   "execution_count": 36,
   "metadata": {},
   "outputs": [],
   "source": [
    "## AÑO JUGADO POR CADA JUGADOR\n",
    "\n",
    "# se itera sobre las filas de df_genresplayer\n",
    "for index, row in df_genres.iterrows():\n",
    "    genero = row['Genre']\n",
    "    jugador = row['PlayerMH']\n",
    "    \n",
    "    # se filtra df_users_items para obtener las horas jugadas del jugador por género y año\n",
    "    df_append_player = df_users_items[(df_users_items[genero] == 1) & (df_users_items['user_id'] == jugador)].groupby(by=['year'])['playtime_forever'].sum().reset_index()\n",
    "    df_append_player = df_append_player.sort_values(by='playtime_forever', ascending=False)\n",
    "    \n",
    "    # se obtienen los años jugados y horas jugadas\n",
    "    years_by_player = []\n",
    "    for j in range(min(3, len(df_append_player))):\n",
    "        this_year = '{Año: ' + str(int(df_append_player['year'].iloc[j])) + ', Horas: ' + str(int(df_append_player['playtime_forever'].iloc[j]/60)) + '}'\n",
    "        years_by_player.append(this_year)\n",
    "    \n",
    "    # se asignan de valores no encontados\n",
    "    if len(years_by_player) == 0:\n",
    "        years_by_player.append('No se encontraron datos de años jugados')\n",
    "    elif len(years_by_player) == 1:\n",
    "        years_by_player.append('Sólo se encontraron datos de un año jugado')\n",
    "    elif len(years_by_player) == 2:\n",
    "        years_by_player.append('Sólo se encontraron datos de dos años jugados')\n",
    "\n",
    "    # se asigna la lista de años jugados y horas jugadas a la columna 'Years Played' en la fila actual\n",
    "    years_by_player=str(years_by_player)\n",
    "    df_genres.at[index, 'Years Played by player'] = years_by_player\n",
    "    "
   ]
  },
  {
   "cell_type": "code",
   "execution_count": 37,
   "metadata": {},
   "outputs": [],
   "source": [
    "#se cambia el indice\n",
    "df_genres.set_index('Genre', inplace=True)\n",
    "#se exporta el dataframe\n",
    "df_genres.to_csv('Datos_procesados/genres_analysis.csv')"
   ]
  },
  {
   "cell_type": "markdown",
   "metadata": {},
   "source": [
    "#### df_year_recommendations"
   ]
  },
  {
   "cell_type": "code",
   "execution_count": 38,
   "metadata": {},
   "outputs": [],
   "source": [
    "#se genera el dataframe que se va a exportar\n",
    "df_year_recommendations=pd.DataFrame(df_user_reviews['year'].unique())\n",
    "#se cambia el nombre de la columna\n",
    "df_year_recommendations.rename(columns={0:'year'}, inplace=True)\n",
    "#se generan las columnas para las recomendaciones y no recomendaciones\n",
    "df_year_recommendations['recommend_id_1']=0\n",
    "df_year_recommendations['recommend_id_2']=0\n",
    "df_year_recommendations['recommend_id_3']=0\n",
    "df_year_recommendations['not_recommend_id_1']=0\n",
    "df_year_recommendations['not_recommend_id_2']=0\n",
    "df_year_recommendations['not_recommend_id_3']=0"
   ]
  },
  {
   "cell_type": "code",
   "execution_count": 39,
   "metadata": {},
   "outputs": [
    {
     "name": "stderr",
     "output_type": "stream",
     "text": [
      "C:\\Users\\feder\\AppData\\Local\\Temp\\ipykernel_9204\\3016255433.py:5: SettingWithCopyWarning: \n",
      "A value is trying to be set on a copy of a slice from a DataFrame\n",
      "\n",
      "See the caveats in the documentation: https://pandas.pydata.org/pandas-docs/stable/user_guide/indexing.html#returning-a-view-versus-a-copy\n",
      "  df_user_reviews_recommend.drop(['user_id', 'posted', 'recommend', 'date'], axis=1, inplace=True)\n",
      "C:\\Users\\feder\\AppData\\Local\\Temp\\ipykernel_9204\\3016255433.py:12: SettingWithCopyWarning: \n",
      "A value is trying to be set on a copy of a slice from a DataFrame\n",
      "\n",
      "See the caveats in the documentation: https://pandas.pydata.org/pandas-docs/stable/user_guide/indexing.html#returning-a-view-versus-a-copy\n",
      "  df_user_reviews_not_recommend.drop(['user_id', 'posted', 'recommend', 'date'], axis=1, inplace=True)\n"
     ]
    }
   ],
   "source": [
    "# Para los recomendados\n",
    "#Filtro el dataframe\n",
    "df_user_reviews_recommend = df_user_reviews[(df_user_reviews['recommend'] == True) & (df_user_reviews['sentiment_analysis'] >= 1)]\n",
    "#saco columnas que no sirven\n",
    "df_user_reviews_recommend.drop(['user_id', 'posted', 'recommend', 'date'], axis=1, inplace=True)\n",
    "# Agrupo por item_id y year, y el promedio de recommend\n",
    "df_grouped_recommend = df_user_reviews_recommend.groupby(['item_id', 'year']).mean().reset_index()\n",
    "# Para los no recomendados\n",
    "# Filtro el dataframe\n",
    "df_user_reviews_not_recommend = df_user_reviews[(df_user_reviews['recommend'] == False) & (df_user_reviews['sentiment_analysis'] < 1)]\n",
    "#saco columnas que no sirven\n",
    "df_user_reviews_not_recommend.drop(['user_id', 'posted', 'recommend', 'date'], axis=1, inplace=True)\n",
    "# Agrupo por item_id y year, y el promedio de recommend\n",
    "df_grouped_not_recommend = df_user_reviews_not_recommend.groupby(['item_id', 'year']).mean().reset_index()"
   ]
  },
  {
   "cell_type": "code",
   "execution_count": 40,
   "metadata": {},
   "outputs": [],
   "source": [
    "#filtro por el año y reordeno los valores\n",
    "for index,row in df_year_recommendations.iterrows():\n",
    "    anio=row['year']\n",
    "    #se verifica que este el año en el dataframe así no arroja errores\n",
    "    if anio in df_grouped_recommend['year'].unique():\n",
    "        #se genera un nuevo dataframe con ese año filtrado, ordenado de mayor a menor por la cantidad de \n",
    "        mejores3= df_grouped_recommend[df_grouped_recommend['year']==anio].sort_values(by='sentiment_analysis', ascending=False).head(3)\n",
    "        mejores3.reset_index(inplace=True)\n",
    "        df_year_recommendations.at[index,'recommend_id_1']=mejores3.at[0,'item_id']\n",
    "        df_year_recommendations.at[index,'recommend_id_2']=mejores3.at[1,'item_id']\n",
    "        df_year_recommendations.at[index,'recommend_id_3']=mejores3.at[2,'item_id']\n",
    "    #se verifica que este el año en el dataframe así no arroja errores\n",
    "    if anio in df_grouped_not_recommend['year'].unique():\n",
    "        peores3= df_grouped_not_recommend[df_grouped_not_recommend['year']==anio].sort_values(by='sentiment_analysis', ascending=True).head(3)\n",
    "        peores3.reset_index(inplace=True)\n",
    "        df_year_recommendations.at[index,'not_recommend_id_1']=peores3.at[0,'item_id']\n",
    "        df_year_recommendations.at[index,'not_recommend_id_2']=peores3.at[1,'item_id']\n",
    "        df_year_recommendations.at[index,'not_recommend_id_3']=peores3.at[2,'item_id']\n",
    "\n",
    "\n",
    "#se cambia el tipo de dato de columna de los ids para su posterior cambio por el nombre\n",
    "df_year_recommendations['recommend_id_1']=df_year_recommendations['recommend_id_1'].astype(int)\n",
    "df_year_recommendations['recommend_id_2']=df_year_recommendations['recommend_id_2'].astype(int)\n",
    "df_year_recommendations['recommend_id_3']=df_year_recommendations['recommend_id_3'].astype(int)\n",
    "df_year_recommendations['not_recommend_id_1']=df_year_recommendations['not_recommend_id_1'].astype(int)\n",
    "df_year_recommendations['not_recommend_id_2']=df_year_recommendations['not_recommend_id_2'].astype(int)\n",
    "df_year_recommendations['not_recommend_id_3']=df_year_recommendations['not_recommend_id_3'].astype(int)\n",
    "\n",
    "#se generan las columnas con los nombres\n",
    "df_year_recommendations['recommend_title_1']=df_year_recommendations['recommend_id_1'].map(pd.Series(titlexid))\n",
    "df_year_recommendations['recommend_title_2']=df_year_recommendations['recommend_id_2'].map(pd.Series(titlexid))\n",
    "df_year_recommendations['recommend_title_3']=df_year_recommendations['recommend_id_3'].map(pd.Series(titlexid))\n",
    "df_year_recommendations['not_recommend_title_1']=df_year_recommendations['not_recommend_id_1'].map(pd.Series(titlexid))\n",
    "df_year_recommendations['not_recommend_title_2']=df_year_recommendations['not_recommend_id_2'].map(pd.Series(titlexid))\n",
    "df_year_recommendations['not_recommend_title_3']=df_year_recommendations['not_recommend_id_3'].map(pd.Series(titlexid))\n",
    "\n",
    "#se eliminan columnas que no sirven\n",
    "df_year_recommendations.drop(['recommend_id_1', 'recommend_id_1', 'recommend_id_2', 'recommend_id_3', 'not_recommend_id_1', 'not_recommend_id_2', 'not_recommend_id_3'], axis=1,inplace=True)\n",
    "\n",
    "#se llenan los valores para los que no se encontró el Id del juego o bien no existe el juego\n",
    "df_year_recommendations.fillna('Juego No encontrado', inplace=True)\n",
    "\n",
    "#se indica el indice y se exporta el archivo\n",
    "df_year_recommendations.set_index('year', inplace=True)\n",
    "df_year_recommendations.to_csv('Datos_procesados/year_recommendations.csv')\n"
   ]
  },
  {
   "cell_type": "markdown",
   "metadata": {},
   "source": [
    "#### df_releaseyear_sentiment"
   ]
  },
  {
   "cell_type": "code",
   "execution_count": 41,
   "metadata": {},
   "outputs": [],
   "source": [
    "#se genera una pivot table que en las filas tenga el año de lanzamiento, en las columnas el sentiment, y cuente cuantos de cada uno\n",
    "df_releaseyear_sentiment=df_user_reviews.pivot_table(index='release_year', columns='sentiment_analysis', values='item_id', aggfunc='count')\n",
    "#se llenan los valores nulos\n",
    "df_releaseyear_sentiment.fillna(0, inplace=True)\n",
    "#se cambia el formato de columnas\n",
    "df_releaseyear_sentiment.rename(columns={0:'Negative', 1:'Neutral',2:'Positive'}, inplace=True)\n",
    "#se cambian los tipos de datos en las columnas\n",
    "df_releaseyear_sentiment['Negative']=df_releaseyear_sentiment['Negative'].astype(int)\n",
    "df_releaseyear_sentiment['Neutral']=df_releaseyear_sentiment['Neutral'].astype(int)\n",
    "df_releaseyear_sentiment['Positive']=df_releaseyear_sentiment['Positive'].astype(int)\n",
    "#se exporta\n",
    "df_releaseyear_sentiment.to_csv('Datos_procesados/releaseyear_sentiment.csv')"
   ]
  },
  {
   "cell_type": "markdown",
   "metadata": {},
   "source": [
    "# Exports for EDA"
   ]
  },
  {
   "cell_type": "code",
   "execution_count": 42,
   "metadata": {},
   "outputs": [],
   "source": [
    "#Steamgames\n",
    "# se cambia el index\n",
    "df_steamgames.set_index('item_id', inplace=True)\n",
    "# se exporta\n",
    "df_steamgames.to_csv('Datos_procesados/df_steamgames.csv')"
   ]
  },
  {
   "cell_type": "code",
   "execution_count": 43,
   "metadata": {},
   "outputs": [],
   "source": [
    "#Users\n",
    "# se cambia el index\n",
    "df_users.set_index('user_id', inplace=True)\n",
    "# se exporta\n",
    "df_users.to_csv('Datos_procesados/df_users.csv')"
   ]
  },
  {
   "cell_type": "code",
   "execution_count": 44,
   "metadata": {},
   "outputs": [],
   "source": [
    "#user_reviews\n",
    "# se exporta\n",
    "df_user_reviews.to_csv('Datos_procesados/df_user_reviews.csv')\n"
   ]
  }
 ],
 "metadata": {
  "kernelspec": {
   "display_name": "Python 3",
   "language": "python",
   "name": "python3"
  },
  "language_info": {
   "codemirror_mode": {
    "name": "ipython",
    "version": 3
   },
   "file_extension": ".py",
   "mimetype": "text/x-python",
   "name": "python",
   "nbconvert_exporter": "python",
   "pygments_lexer": "ipython3",
   "version": "3.11.4"
  }
 },
 "nbformat": 4,
 "nbformat_minor": 2
}
