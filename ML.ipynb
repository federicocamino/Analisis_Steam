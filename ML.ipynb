{
 "cells": [
  {
   "cell_type": "code",
   "execution_count": 1,
   "metadata": {},
   "outputs": [],
   "source": [
    "import pandas as pd     #importo librería pandas que vamos a usar para el data frame\n",
    "from sklearn.metrics.pairwise import cosine_similarity\n"
   ]
  },
  {
   "cell_type": "code",
   "execution_count": 2,
   "metadata": {},
   "outputs": [],
   "source": [
    "#leo el dataframe\n",
    "df_tags_for_ML=pd.read_csv('Datos_procesados/df_tags_for_ML.csv')\n",
    "#elimino duplicados\n",
    "df_tags_for_ML.drop_duplicates('item_id', inplace= True)\n",
    "#armo el dataframe que voy a usar para exportar la información obtenida en el algoritmo de ML\n",
    "df_recommendedgames=df_tags_for_ML[['item_id','item_title']]\n",
    "df_tags_for_ML.drop('item_title', axis=1, inplace= True )\n",
    "#ubico los Id como índices, necesario para el algoritmo de ML\n",
    "df_recommendedgames.set_index('item_id', inplace=True)\n",
    "df_tags_for_ML.set_index('item_id', inplace=True)"
   ]
  },
  {
   "cell_type": "code",
   "execution_count": 3,
   "metadata": {},
   "outputs": [],
   "source": [
    "#obtengo los indices\n",
    "indices=df_tags_for_ML.index\n",
    "#armo el algoritmo de ML\n",
    "vector_similitud_coseno=cosine_similarity(df_tags_for_ML.values)\n",
    "#paso los valores a un dataframe para su posterior procesamiento\n",
    "df_cos_sim=pd.DataFrame(vector_similitud_coseno, index=indices, columns=indices)"
   ]
  },
  {
   "cell_type": "code",
   "execution_count": 24,
   "metadata": {},
   "outputs": [],
   "source": [
    "#agrego columnas al dataframe, en donde voy a poner los resultados de la recomendación\n",
    "for i in range(5):\n",
    "    df_recommendedgames[f'recoitem_id_{i+1}'] = None\n",
    "\n",
    "#Agrego los resultados de la recomendación\n",
    "#voy a iterar por cada fila en el dataframe de recommended games\n",
    "for index, row in df_recommendedgames.iterrows():\n",
    "    #armo una lista con la columna del df_cos_sim que corresponde a ese juego. La reordeno de mayor a menor y \n",
    "    #obtengo los primeros 6 valores\n",
    "    lista=df_cos_sim.loc[index].sort_values(ascending=False).head(6).index.to_list()\n",
    "    #elimino de la lista el mismo juego (a veces aparece, a veces no)\n",
    "    if index in lista: lista.remove(index)\n",
    "    #pongo en cada columna el valor del juego\n",
    "    df_recommendedgames.at[index, 'recoitem_id_1'] = lista[0]\n",
    "    df_recommendedgames.at[index, 'recoitem_id_2'] = lista[1]\n",
    "    df_recommendedgames.at[index, 'recoitem_id_3'] = lista[2]\n",
    "    df_recommendedgames.at[index, 'recoitem_id_4'] = lista[3]\n",
    "    df_recommendedgames.at[index, 'recoitem_id_5'] = lista[4]\n"
   ]
  },
  {
   "cell_type": "code",
   "execution_count": 30,
   "metadata": {},
   "outputs": [
    {
     "name": "stderr",
     "output_type": "stream",
     "text": [
      "C:\\Users\\feder\\AppData\\Local\\Temp\\ipykernel_3432\\1997405321.py:1: SettingWithCopyWarning: \n",
      "A value is trying to be set on a copy of a slice from a DataFrame.\n",
      "Try using .loc[row_indexer,col_indexer] = value instead\n",
      "\n",
      "See the caveats in the documentation: https://pandas.pydata.org/pandas-docs/stable/user_guide/indexing.html#returning-a-view-versus-a-copy\n",
      "  df_recommendedgames['recommended_game_1'] = df_recommendedgames['recoitem_id_1'].map(dict_games)\n"
     ]
    }
   ],
   "source": [
    "#pongo los nombres de los juegos y elimino las columnas\n",
    "#agrego columnas al dataframe, en donde voy a poner los resultados de la recomendación\n",
    "for i in range(5):\n",
    "    df_recommendedgames[f'recommended_game_{i+1}'] = None\n",
    "#armo un diccionario con las claves y nombres de juegos\n",
    "dict_games={}\n",
    "for index, row in df_recommendedgames.iterrows():\n",
    "    dict_games[index] = row['item_title']\n",
    "#cambio los valores\n",
    "df_recommendedgames['recommended_game_1'] = df_recommendedgames['recoitem_id_1'].map(dict_games)\n",
    "df_recommendedgames['recommended_game_2'] = df_recommendedgames['recoitem_id_2'].map(dict_games)\n",
    "df_recommendedgames['recommended_game_3'] = df_recommendedgames['recoitem_id_3'].map(dict_games)\n",
    "df_recommendedgames['recommended_game_4'] = df_recommendedgames['recoitem_id_4'].map(dict_games)\n",
    "df_recommendedgames['recommended_game_5'] = df_recommendedgames['recoitem_id_5'].map(dict_games)\n",
    "#elimino las columnas que no me sirven\n",
    "df_recommendedgames.drop(['recoitem_id_1', 'recoitem_id_2', 'recoitem_id_3', 'recoitem_id_4', 'recoitem_id_5'], axis=1, inplace=True)"
   ]
  },
  {
   "cell_type": "code",
   "execution_count": 39,
   "metadata": {},
   "outputs": [],
   "source": [
    "df_recommendedgames.to_csv('Datos_procesados/df_recommended_gamesxgames.csv')"
   ]
  }
 ],
 "metadata": {
  "kernelspec": {
   "display_name": "venv",
   "language": "python",
   "name": "python3"
  },
  "language_info": {
   "codemirror_mode": {
    "name": "ipython",
    "version": 3
   },
   "file_extension": ".py",
   "mimetype": "text/x-python",
   "name": "python",
   "nbconvert_exporter": "python",
   "pygments_lexer": "ipython3",
   "version": "3.11.4"
  }
 },
 "nbformat": 4,
 "nbformat_minor": 2
}
